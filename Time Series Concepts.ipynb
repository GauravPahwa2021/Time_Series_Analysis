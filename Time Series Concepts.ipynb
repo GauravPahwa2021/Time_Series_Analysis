{
 "cells": [
  {
   "cell_type": "code",
   "execution_count": 1,
   "id": "e520fc00",
   "metadata": {},
   "outputs": [
    {
     "name": "stdout",
     "output_type": "stream",
     "text": [
      "Requirement already satisfied: pandas_datareader in c:\\users\\user\\anaconda3\\lib\\site-packages (0.10.0)\n",
      "Requirement already satisfied: lxml in c:\\users\\user\\anaconda3\\lib\\site-packages (from pandas_datareader) (4.9.3)\n",
      "Requirement already satisfied: pandas>=0.23 in c:\\users\\user\\anaconda3\\lib\\site-packages (from pandas_datareader) (1.4.1)\n",
      "Requirement already satisfied: requests>=2.19.0 in c:\\users\\user\\anaconda3\\lib\\site-packages (from pandas_datareader) (2.27.1)\n",
      "Requirement already satisfied: pytz>=2020.1 in c:\\users\\user\\anaconda3\\lib\\site-packages (from pandas>=0.23->pandas_datareader) (2023.3)\n",
      "Requirement already satisfied: numpy>=1.18.5 in c:\\users\\user\\anaconda3\\lib\\site-packages (from pandas>=0.23->pandas_datareader) (1.23.5)\n"
     ]
    },
    {
     "name": "stderr",
     "output_type": "stream",
     "text": [
      "WARNING: Ignoring invalid distribution -cipy (c:\\users\\user\\anaconda3\\lib\\site-packages)\n",
      "WARNING: Ignoring invalid distribution -cipy (c:\\users\\user\\anaconda3\\lib\\site-packages)\n"
     ]
    },
    {
     "name": "stdout",
     "output_type": "stream",
     "text": [
      "Requirement already satisfied: python-dateutil>=2.8.1 in c:\\users\\user\\anaconda3\\lib\\site-packages (from pandas>=0.23->pandas_datareader) (2.8.2)\n",
      "Requirement already satisfied: six>=1.5 in c:\\users\\user\\anaconda3\\lib\\site-packages (from python-dateutil>=2.8.1->pandas>=0.23->pandas_datareader) (1.15.0)\n",
      "Requirement already satisfied: idna<4,>=2.5 in c:\\users\\user\\anaconda3\\lib\\site-packages (from requests>=2.19.0->pandas_datareader) (2.10)\n",
      "Requirement already satisfied: certifi>=2017.4.17 in c:\\users\\user\\anaconda3\\lib\\site-packages (from requests>=2.19.0->pandas_datareader) (2023.5.7)\n",
      "Requirement already satisfied: urllib3<1.27,>=1.21.1 in c:\\users\\user\\anaconda3\\lib\\site-packages (from requests>=2.19.0->pandas_datareader) (1.26.8)\n",
      "Requirement already satisfied: charset-normalizer~=2.0.0 in c:\\users\\user\\anaconda3\\lib\\site-packages (from requests>=2.19.0->pandas_datareader) (2.0.4)\n"
     ]
    },
    {
     "name": "stderr",
     "output_type": "stream",
     "text": [
      "WARNING: Ignoring invalid distribution -cipy (c:\\users\\user\\anaconda3\\lib\\site-packages)\n",
      "WARNING: Ignoring invalid distribution -cipy (c:\\users\\user\\anaconda3\\lib\\site-packages)\n",
      "WARNING: Ignoring invalid distribution -cipy (c:\\users\\user\\anaconda3\\lib\\site-packages)\n",
      "WARNING: Ignoring invalid distribution -cipy (c:\\users\\user\\anaconda3\\lib\\site-packages)\n"
     ]
    }
   ],
   "source": [
    "!pip install pandas_datareader"
   ]
  },
  {
   "cell_type": "code",
   "execution_count": 2,
   "id": "203909cc",
   "metadata": {},
   "outputs": [
    {
     "name": "stdout",
     "output_type": "stream",
     "text": [
      "Requirement already satisfied: yfinance in c:\\users\\user\\anaconda3\\lib\\site-packages (0.2.22)\n",
      "Requirement already satisfied: frozendict>=2.3.4 in c:\\users\\user\\anaconda3\\lib\\site-packages (from yfinance) (2.3.8)\n"
     ]
    },
    {
     "name": "stderr",
     "output_type": "stream",
     "text": [
      "WARNING: Ignoring invalid distribution -cipy (c:\\users\\user\\anaconda3\\lib\\site-packages)\n",
      "WARNING: Ignoring invalid distribution -cipy (c:\\users\\user\\anaconda3\\lib\\site-packages)\n",
      "WARNING: Ignoring invalid distribution -cipy (c:\\users\\user\\anaconda3\\lib\\site-packages)\n",
      "WARNING: Ignoring invalid distribution -cipy (c:\\users\\user\\anaconda3\\lib\\site-packages)\n",
      "WARNING: Ignoring invalid distribution -cipy (c:\\users\\user\\anaconda3\\lib\\site-packages)\n",
      "WARNING: Ignoring invalid distribution -cipy (c:\\users\\user\\anaconda3\\lib\\site-packages)\n"
     ]
    },
    {
     "name": "stdout",
     "output_type": "stream",
     "text": [
      "Requirement already satisfied: numpy>=1.16.5 in c:\\users\\user\\anaconda3\\lib\\site-packages (from yfinance) (1.23.5)\n",
      "Requirement already satisfied: lxml>=4.9.1 in c:\\users\\user\\anaconda3\\lib\\site-packages (from yfinance) (4.9.3)\n",
      "Requirement already satisfied: appdirs>=1.4.4 in c:\\users\\user\\anaconda3\\lib\\site-packages (from yfinance) (1.4.4)\n",
      "Requirement already satisfied: pytz>=2022.5 in c:\\users\\user\\anaconda3\\lib\\site-packages (from yfinance) (2023.3)\n",
      "Requirement already satisfied: beautifulsoup4>=4.11.1 in c:\\users\\user\\anaconda3\\lib\\site-packages (from yfinance) (4.12.2)\n",
      "Requirement already satisfied: html5lib>=1.1 in c:\\users\\user\\anaconda3\\lib\\site-packages (from yfinance) (1.1)\n",
      "Requirement already satisfied: pandas>=1.3.0 in c:\\users\\user\\anaconda3\\lib\\site-packages (from yfinance) (1.4.1)\n",
      "Requirement already satisfied: multitasking>=0.0.7 in c:\\users\\user\\anaconda3\\lib\\site-packages (from yfinance) (0.0.11)\n",
      "Requirement already satisfied: requests>=2.26 in c:\\users\\user\\anaconda3\\lib\\site-packages (from yfinance) (2.27.1)\n",
      "Requirement already satisfied: soupsieve>1.2 in c:\\users\\user\\anaconda3\\lib\\site-packages (from beautifulsoup4>=4.11.1->yfinance) (2.3.1)\n",
      "Requirement already satisfied: webencodings in c:\\users\\user\\anaconda3\\lib\\site-packages (from html5lib>=1.1->yfinance) (0.5.1)\n",
      "Requirement already satisfied: six>=1.9 in c:\\users\\user\\anaconda3\\lib\\site-packages (from html5lib>=1.1->yfinance) (1.15.0)\n",
      "Requirement already satisfied: python-dateutil>=2.8.1 in c:\\users\\user\\anaconda3\\lib\\site-packages (from pandas>=1.3.0->yfinance) (2.8.2)\n",
      "Requirement already satisfied: charset-normalizer~=2.0.0 in c:\\users\\user\\anaconda3\\lib\\site-packages (from requests>=2.26->yfinance) (2.0.4)\n",
      "Requirement already satisfied: idna<4,>=2.5 in c:\\users\\user\\anaconda3\\lib\\site-packages (from requests>=2.26->yfinance) (2.10)\n",
      "Requirement already satisfied: certifi>=2017.4.17 in c:\\users\\user\\anaconda3\\lib\\site-packages (from requests>=2.26->yfinance) (2023.5.7)\n",
      "Requirement already satisfied: urllib3<1.27,>=1.21.1 in c:\\users\\user\\anaconda3\\lib\\site-packages (from requests>=2.26->yfinance) (1.26.8)\n"
     ]
    }
   ],
   "source": [
    "!pip install yfinance"
   ]
  },
  {
   "cell_type": "code",
   "execution_count": 3,
   "id": "f4a42f8b",
   "metadata": {},
   "outputs": [],
   "source": [
    "from pandas_datareader import data as pdr\n",
    "import pandas as pd\n",
    "import yfinance as yf\n",
    "from datetime import datetime"
   ]
  },
  {
   "cell_type": "code",
   "execution_count": 4,
   "id": "78d956b3",
   "metadata": {},
   "outputs": [
    {
     "name": "stdout",
     "output_type": "stream",
     "text": [
      "[*********************100%***********************]  1 of 1 completed\n"
     ]
    }
   ],
   "source": [
    "yf.pdr_override()\n",
    "df = pdr.get_data_yahoo('TSLA')"
   ]
  },
  {
   "cell_type": "code",
   "execution_count": 5,
   "id": "5e537fa8",
   "metadata": {},
   "outputs": [
    {
     "data": {
      "text/html": [
       "<div>\n",
       "<style scoped>\n",
       "    .dataframe tbody tr th:only-of-type {\n",
       "        vertical-align: middle;\n",
       "    }\n",
       "\n",
       "    .dataframe tbody tr th {\n",
       "        vertical-align: top;\n",
       "    }\n",
       "\n",
       "    .dataframe thead th {\n",
       "        text-align: right;\n",
       "    }\n",
       "</style>\n",
       "<table border=\"1\" class=\"dataframe\">\n",
       "  <thead>\n",
       "    <tr style=\"text-align: right;\">\n",
       "      <th></th>\n",
       "      <th>Open</th>\n",
       "      <th>High</th>\n",
       "      <th>Low</th>\n",
       "      <th>Close</th>\n",
       "      <th>Adj Close</th>\n",
       "      <th>Volume</th>\n",
       "    </tr>\n",
       "    <tr>\n",
       "      <th>Date</th>\n",
       "      <th></th>\n",
       "      <th></th>\n",
       "      <th></th>\n",
       "      <th></th>\n",
       "      <th></th>\n",
       "      <th></th>\n",
       "    </tr>\n",
       "  </thead>\n",
       "  <tbody>\n",
       "    <tr>\n",
       "      <th>2010-06-29</th>\n",
       "      <td>1.266667</td>\n",
       "      <td>1.666667</td>\n",
       "      <td>1.169333</td>\n",
       "      <td>1.592667</td>\n",
       "      <td>1.592667</td>\n",
       "      <td>281494500</td>\n",
       "    </tr>\n",
       "    <tr>\n",
       "      <th>2010-06-30</th>\n",
       "      <td>1.719333</td>\n",
       "      <td>2.028000</td>\n",
       "      <td>1.553333</td>\n",
       "      <td>1.588667</td>\n",
       "      <td>1.588667</td>\n",
       "      <td>257806500</td>\n",
       "    </tr>\n",
       "    <tr>\n",
       "      <th>2010-07-01</th>\n",
       "      <td>1.666667</td>\n",
       "      <td>1.728000</td>\n",
       "      <td>1.351333</td>\n",
       "      <td>1.464000</td>\n",
       "      <td>1.464000</td>\n",
       "      <td>123282000</td>\n",
       "    </tr>\n",
       "    <tr>\n",
       "      <th>2010-07-02</th>\n",
       "      <td>1.533333</td>\n",
       "      <td>1.540000</td>\n",
       "      <td>1.247333</td>\n",
       "      <td>1.280000</td>\n",
       "      <td>1.280000</td>\n",
       "      <td>77097000</td>\n",
       "    </tr>\n",
       "    <tr>\n",
       "      <th>2010-07-06</th>\n",
       "      <td>1.333333</td>\n",
       "      <td>1.333333</td>\n",
       "      <td>1.055333</td>\n",
       "      <td>1.074000</td>\n",
       "      <td>1.074000</td>\n",
       "      <td>103003500</td>\n",
       "    </tr>\n",
       "    <tr>\n",
       "      <th>...</th>\n",
       "      <td>...</td>\n",
       "      <td>...</td>\n",
       "      <td>...</td>\n",
       "      <td>...</td>\n",
       "      <td>...</td>\n",
       "      <td>...</td>\n",
       "    </tr>\n",
       "    <tr>\n",
       "      <th>2023-08-28</th>\n",
       "      <td>242.580002</td>\n",
       "      <td>244.380005</td>\n",
       "      <td>235.350006</td>\n",
       "      <td>238.820007</td>\n",
       "      <td>238.820007</td>\n",
       "      <td>107673700</td>\n",
       "    </tr>\n",
       "    <tr>\n",
       "      <th>2023-08-29</th>\n",
       "      <td>238.580002</td>\n",
       "      <td>257.480011</td>\n",
       "      <td>237.770004</td>\n",
       "      <td>257.179993</td>\n",
       "      <td>257.179993</td>\n",
       "      <td>134047600</td>\n",
       "    </tr>\n",
       "    <tr>\n",
       "      <th>2023-08-30</th>\n",
       "      <td>254.199997</td>\n",
       "      <td>260.510010</td>\n",
       "      <td>250.589996</td>\n",
       "      <td>256.899994</td>\n",
       "      <td>256.899994</td>\n",
       "      <td>121988400</td>\n",
       "    </tr>\n",
       "    <tr>\n",
       "      <th>2023-08-31</th>\n",
       "      <td>255.979996</td>\n",
       "      <td>261.179993</td>\n",
       "      <td>255.050003</td>\n",
       "      <td>258.079987</td>\n",
       "      <td>258.079987</td>\n",
       "      <td>108861700</td>\n",
       "    </tr>\n",
       "    <tr>\n",
       "      <th>2023-09-01</th>\n",
       "      <td>257.260010</td>\n",
       "      <td>259.079987</td>\n",
       "      <td>242.009995</td>\n",
       "      <td>245.009995</td>\n",
       "      <td>245.009995</td>\n",
       "      <td>132272500</td>\n",
       "    </tr>\n",
       "  </tbody>\n",
       "</table>\n",
       "<p>3318 rows × 6 columns</p>\n",
       "</div>"
      ],
      "text/plain": [
       "                  Open        High         Low       Close   Adj Close  \\\n",
       "Date                                                                     \n",
       "2010-06-29    1.266667    1.666667    1.169333    1.592667    1.592667   \n",
       "2010-06-30    1.719333    2.028000    1.553333    1.588667    1.588667   \n",
       "2010-07-01    1.666667    1.728000    1.351333    1.464000    1.464000   \n",
       "2010-07-02    1.533333    1.540000    1.247333    1.280000    1.280000   \n",
       "2010-07-06    1.333333    1.333333    1.055333    1.074000    1.074000   \n",
       "...                ...         ...         ...         ...         ...   \n",
       "2023-08-28  242.580002  244.380005  235.350006  238.820007  238.820007   \n",
       "2023-08-29  238.580002  257.480011  237.770004  257.179993  257.179993   \n",
       "2023-08-30  254.199997  260.510010  250.589996  256.899994  256.899994   \n",
       "2023-08-31  255.979996  261.179993  255.050003  258.079987  258.079987   \n",
       "2023-09-01  257.260010  259.079987  242.009995  245.009995  245.009995   \n",
       "\n",
       "               Volume  \n",
       "Date                   \n",
       "2010-06-29  281494500  \n",
       "2010-06-30  257806500  \n",
       "2010-07-01  123282000  \n",
       "2010-07-02   77097000  \n",
       "2010-07-06  103003500  \n",
       "...               ...  \n",
       "2023-08-28  107673700  \n",
       "2023-08-29  134047600  \n",
       "2023-08-30  121988400  \n",
       "2023-08-31  108861700  \n",
       "2023-09-01  132272500  \n",
       "\n",
       "[3318 rows x 6 columns]"
      ]
     },
     "execution_count": 5,
     "metadata": {},
     "output_type": "execute_result"
    }
   ],
   "source": [
    "df"
   ]
  },
  {
   "cell_type": "code",
   "execution_count": 6,
   "id": "db74e006",
   "metadata": {},
   "outputs": [
    {
     "data": {
      "text/plain": [
       "<AxesSubplot:xlabel='Date'>"
      ]
     },
     "execution_count": 6,
     "metadata": {},
     "output_type": "execute_result"
    },
    {
     "data": {
      "image/png": "[encoded data removed]",
      "text/plain": [
       "<Figure size 1080x432 with 1 Axes>"
      ]
     },
     "metadata": {
      "needs_background": "light"
     },
     "output_type": "display_data"
    }
   ],
   "source": [
    "df['Open'].plot(figsize=(15,6))"
   ]
  },
  {
   "attachments": {
    "simple-moving-average6-300x62.webp": {
     "image/webp": "[encoded data removed]"
    }
   },
   "cell_type": "markdown",
   "id": "ec323ac7",
   "metadata": {},
   "source": [
    "#### Simeple Moving Average(SMA)\n",
    "![simple-moving-average6-300x62.webp](attachment:simple-moving-average6-300x62.webp)"
   ]
  },
  {
   "cell_type": "code",
   "execution_count": 7,
   "id": "c3b907cc",
   "metadata": {},
   "outputs": [],
   "source": [
    "df['Open:10 days rolling'] = df['Open'].rolling(window=10,min_periods=1).mean()"
   ]
  },
  {
   "cell_type": "code",
   "execution_count": 8,
   "id": "b710ef69",
   "metadata": {},
   "outputs": [
    {
     "data": {
      "text/plain": [
       "Date\n",
       "2010-06-29      1.266667\n",
       "2010-06-30      1.493000\n",
       "2010-07-01      1.550889\n",
       "2010-07-02      1.546500\n",
       "2010-07-06      1.503867\n",
       "                 ...    \n",
       "2023-08-28    231.062000\n",
       "2023-08-29    231.047000\n",
       "2023-08-30    233.664999\n",
       "2023-08-31    236.656999\n",
       "2023-09-01    240.971001\n",
       "Name: Open:10 days rolling, Length: 3318, dtype: float64"
      ]
     },
     "execution_count": 8,
     "metadata": {},
     "output_type": "execute_result"
    }
   ],
   "source": [
    "df['Open:10 days rolling']"
   ]
  },
  {
   "cell_type": "code",
   "execution_count": 9,
   "id": "d007bc7c",
   "metadata": {},
   "outputs": [
    {
     "data": {
      "text/plain": [
       "<AxesSubplot:xlabel='Date'>"
      ]
     },
     "execution_count": 9,
     "metadata": {},
     "output_type": "execute_result"
    },
    {
     "data": {
      "image/png": "[encoded data removed]",
      "text/plain": [
       "<Figure size 1080x432 with 1 Axes>"
      ]
     },
     "metadata": {
      "needs_background": "light"
     },
     "output_type": "display_data"
    }
   ],
   "source": [
    "df[['Open','Open:10 days rolling']].plot(xlim=['2020-01-01','2021-01-01'],figsize=(15,6))"
   ]
  },
  {
   "cell_type": "code",
   "execution_count": 10,
   "id": "fa4ca6c1",
   "metadata": {},
   "outputs": [],
   "source": [
    "df['Open:30 days rolling'] = df['Open'].rolling(window=30,min_periods=1).mean()\n",
    "df['Open:50 days rolling'] = df['Open'].rolling(window=50,min_periods=1).mean()"
   ]
  },
  {
   "cell_type": "code",
   "execution_count": 11,
   "id": "8a5dd2ee",
   "metadata": {},
   "outputs": [
    {
     "data": {
      "text/plain": [
       "<AxesSubplot:xlabel='Date'>"
      ]
     },
     "execution_count": 11,
     "metadata": {},
     "output_type": "execute_result"
    },
    {
     "data": {
      "image/png": "[encoded data removed]",
      "text/plain": [
       "<Figure size 1080x432 with 1 Axes>"
      ]
     },
     "metadata": {
      "needs_background": "light"
     },
     "output_type": "display_data"
    }
   ],
   "source": [
    "df[['Open','Open:10 days rolling','Open:30 days rolling','Open:50 days rolling']].plot(xlim=['2020-01-01','2021-01-01'],figsize=(15,6))"
   ]
  },
  {
   "cell_type": "markdown",
   "id": "ebff2436",
   "metadata": {},
   "source": [
    "#### Cumulative Moving Average(CMA)"
   ]
  },
  {
   "cell_type": "code",
   "execution_count": 12,
   "id": "7fb85d5e",
   "metadata": {},
   "outputs": [
    {
     "data": {
      "text/plain": [
       "Date\n",
       "2010-06-29     1.266667\n",
       "2010-06-30     1.493000\n",
       "2010-07-01     1.550889\n",
       "2010-07-02     1.546500\n",
       "2010-07-06     1.503867\n",
       "                ...    \n",
       "2023-08-28    66.027157\n",
       "2023-08-29    66.079209\n",
       "2023-08-30    66.135940\n",
       "2023-08-31    66.193174\n",
       "2023-09-01    66.250759\n",
       "Name: Open:cumulative, Length: 3318, dtype: float64"
      ]
     },
     "execution_count": 12,
     "metadata": {},
     "output_type": "execute_result"
    }
   ],
   "source": [
    "df['Open:cumulative'] = df['Open'].expanding().mean()\n",
    "df['Open:cumulative']"
   ]
  },
  {
   "cell_type": "code",
   "execution_count": 13,
   "id": "2cc20b29",
   "metadata": {},
   "outputs": [
    {
     "data": {
      "text/plain": [
       "<AxesSubplot:xlabel='Date'>"
      ]
     },
     "execution_count": 13,
     "metadata": {},
     "output_type": "execute_result"
    },
    {
     "data": {
      "image/png": "[encoded data removed]",
      "text/plain": [
       "<Figure size 1080x432 with 1 Axes>"
      ]
     },
     "metadata": {
      "needs_background": "light"
     },
     "output_type": "display_data"
    }
   ],
   "source": [
    "df['Open:cumulative'].plot(figsize=(15,6))"
   ]
  },
  {
   "attachments": {
    "exponentially-weighted-moving-average-ewma1.png": {
     "image/png": "[encoded data removed]"
    }
   },
   "cell_type": "markdown",
   "id": "627f0260",
   "metadata": {},
   "source": [
    "#### Exponential Moving Average(EMA)\n",
    "\n",
    "![exponentially-weighted-moving-average-ewma1.png](attachment:exponentially-weighted-moving-average-ewma1.png)\n",
    "\n",
    "It also called Exponential Weighted Moving Average(EWMA)\n",
    "\n",
    "(Closing Price – EMA of the previous day) * multiplier + EMA of the previous day.\n",
    "\n",
    "multiplier = 2/(window+1)\n",
    "\n",
    "For 1 record after window size, calculate SMA for considering previous EMA for next record."
   ]
  },
  {
   "cell_type": "code",
   "execution_count": 14,
   "id": "46198db7",
   "metadata": {},
   "outputs": [
    {
     "data": {
      "text/plain": [
       "Date\n",
       "2010-06-29      1.266667\n",
       "2010-06-30      1.311934\n",
       "2010-07-01      1.347407\n",
       "2010-07-02      1.366000\n",
       "2010-07-06      1.362733\n",
       "                 ...    \n",
       "2023-08-28    240.264659\n",
       "2023-08-29    240.096194\n",
       "2023-08-30    241.506574\n",
       "2023-08-31    242.953916\n",
       "2023-09-01    244.384526\n",
       "Name: EMA_0.1, Length: 3318, dtype: float64"
      ]
     },
     "execution_count": 14,
     "metadata": {},
     "output_type": "execute_result"
    }
   ],
   "source": [
    "# smothning factor(alpha) - 0.1\n",
    "df['EMA_0.1'] = df['Open'].ewm(alpha=0.1,adjust=False).mean()\n",
    "df['EMA_0.1']"
   ]
  },
  {
   "cell_type": "code",
   "execution_count": 15,
   "id": "5436296d",
   "metadata": {},
   "outputs": [
    {
     "data": {
      "text/plain": [
       "<AxesSubplot:xlabel='Date'>"
      ]
     },
     "execution_count": 15,
     "metadata": {},
     "output_type": "execute_result"
    },
    {
     "data": {
      "image/png": "[encoded data removed]",
      "text/plain": [
       "<Figure size 1080x432 with 1 Axes>"
      ]
     },
     "metadata": {
      "needs_background": "light"
     },
     "output_type": "display_data"
    }
   ],
   "source": [
    "df[['Open','EMA_0.1']].plot(xlim=['2020-01-01','2021-01-01'],figsize=(15,6))"
   ]
  },
  {
   "cell_type": "code",
   "execution_count": 16,
   "id": "9736e432",
   "metadata": {},
   "outputs": [],
   "source": [
    "df['EMA_0.3'] = df['Open'].ewm(alpha=0.3,adjust=False).mean()"
   ]
  },
  {
   "cell_type": "code",
   "execution_count": 17,
   "id": "14829f9b",
   "metadata": {},
   "outputs": [
    {
     "data": {
      "text/plain": [
       "<AxesSubplot:xlabel='Date'>"
      ]
     },
     "execution_count": 17,
     "metadata": {},
     "output_type": "execute_result"
    },
    {
     "data": {
      "image/png": "[encoded data removed]",
      "text/plain": [
       "<Figure size 1080x432 with 1 Axes>"
      ]
     },
     "metadata": {
      "needs_background": "light"
     },
     "output_type": "display_data"
    }
   ],
   "source": [
    "df[['Open','EMA_0.1','EMA_0.3']].plot(xlim=['2020-01-01','2021-01-01'],figsize=(15,6))"
   ]
  },
  {
   "cell_type": "code",
   "execution_count": 18,
   "id": "d4783a7b",
   "metadata": {},
   "outputs": [],
   "source": [
    "df['EMA_5days'] = df['Open'].ewm(span=5,adjust=True).mean()"
   ]
  },
  {
   "cell_type": "code",
   "execution_count": 19,
   "id": "3a5ed1c6",
   "metadata": {},
   "outputs": [
    {
     "data": {
      "text/plain": [
       "<AxesSubplot:xlabel='Date'>"
      ]
     },
     "execution_count": 19,
     "metadata": {},
     "output_type": "execute_result"
    },
    {
     "data": {
      "image/png": "[encoded data removed]",
      "text/plain": [
       "<Figure size 1080x432 with 1 Axes>"
      ]
     },
     "metadata": {
      "needs_background": "light"
     },
     "output_type": "display_data"
    }
   ],
   "source": [
    "df[['Open','EMA_0.1','EMA_5days']].plot(xlim=['2020-01-01','2021-01-01'],figsize=(15,6))"
   ]
  },
  {
   "cell_type": "markdown",
   "id": "7057b4ec",
   "metadata": {},
   "source": [
    "## Time-Series Models"
   ]
  },
  {
   "cell_type": "code",
   "execution_count": 20,
   "id": "7e58a9ba",
   "metadata": {},
   "outputs": [
    {
     "name": "stderr",
     "output_type": "stream",
     "text": [
      "<frozen importlib._bootstrap>:219: RuntimeWarning: scipy._lib.messagestream.MessageStream size changed, may indicate binary incompatibility. Expected 56 from C header, got 64 from PyObject\n"
     ]
    }
   ],
   "source": [
    "import numpy as np\n",
    "import matplotlib.pyplot as plt\n",
    "import statsmodels.api as sms\n",
    "import pandas as pd\n",
    "\n",
    "%matplotlib inline"
   ]
  },
  {
   "cell_type": "code",
   "execution_count": 21,
   "id": "cfb65a8d",
   "metadata": {},
   "outputs": [
    {
     "data": {
      "text/html": [
       "<div>\n",
       "<style scoped>\n",
       "    .dataframe tbody tr th:only-of-type {\n",
       "        vertical-align: middle;\n",
       "    }\n",
       "\n",
       "    .dataframe tbody tr th {\n",
       "        vertical-align: top;\n",
       "    }\n",
       "\n",
       "    .dataframe thead th {\n",
       "        text-align: right;\n",
       "    }\n",
       "</style>\n",
       "<table border=\"1\" class=\"dataframe\">\n",
       "  <thead>\n",
       "    <tr style=\"text-align: right;\">\n",
       "      <th></th>\n",
       "      <th>Month</th>\n",
       "      <th>Thousands of Passengers</th>\n",
       "    </tr>\n",
       "  </thead>\n",
       "  <tbody>\n",
       "    <tr>\n",
       "      <th>0</th>\n",
       "      <td>1949-01</td>\n",
       "      <td>112.0</td>\n",
       "    </tr>\n",
       "    <tr>\n",
       "      <th>1</th>\n",
       "      <td>1949-02</td>\n",
       "      <td>118.0</td>\n",
       "    </tr>\n",
       "    <tr>\n",
       "      <th>2</th>\n",
       "      <td>1949-03</td>\n",
       "      <td>132.0</td>\n",
       "    </tr>\n",
       "    <tr>\n",
       "      <th>3</th>\n",
       "      <td>1949-04</td>\n",
       "      <td>129.0</td>\n",
       "    </tr>\n",
       "    <tr>\n",
       "      <th>4</th>\n",
       "      <td>1949-05</td>\n",
       "      <td>121.0</td>\n",
       "    </tr>\n",
       "  </tbody>\n",
       "</table>\n",
       "</div>"
      ],
      "text/plain": [
       "     Month  Thousands of Passengers\n",
       "0  1949-01                    112.0\n",
       "1  1949-02                    118.0\n",
       "2  1949-03                    132.0\n",
       "3  1949-04                    129.0\n",
       "4  1949-05                    121.0"
      ]
     },
     "execution_count": 21,
     "metadata": {},
     "output_type": "execute_result"
    }
   ],
   "source": [
    "df_airline = pd.read_csv('Airlinedataset/airline_passengers.csv')\n",
    "df_airline.head()"
   ]
  },
  {
   "cell_type": "code",
   "execution_count": 22,
   "id": "e7bfbe1a",
   "metadata": {},
   "outputs": [
    {
     "data": {
      "text/html": [
       "<div>\n",
       "<style scoped>\n",
       "    .dataframe tbody tr th:only-of-type {\n",
       "        vertical-align: middle;\n",
       "    }\n",
       "\n",
       "    .dataframe tbody tr th {\n",
       "        vertical-align: top;\n",
       "    }\n",
       "\n",
       "    .dataframe thead th {\n",
       "        text-align: right;\n",
       "    }\n",
       "</style>\n",
       "<table border=\"1\" class=\"dataframe\">\n",
       "  <thead>\n",
       "    <tr style=\"text-align: right;\">\n",
       "      <th></th>\n",
       "      <th>Month</th>\n",
       "      <th>Thousands of Passengers</th>\n",
       "    </tr>\n",
       "  </thead>\n",
       "  <tbody>\n",
       "    <tr>\n",
       "      <th>140</th>\n",
       "      <td>1960-09</td>\n",
       "      <td>508.0</td>\n",
       "    </tr>\n",
       "    <tr>\n",
       "      <th>141</th>\n",
       "      <td>1960-10</td>\n",
       "      <td>461.0</td>\n",
       "    </tr>\n",
       "    <tr>\n",
       "      <th>142</th>\n",
       "      <td>1960-11</td>\n",
       "      <td>390.0</td>\n",
       "    </tr>\n",
       "    <tr>\n",
       "      <th>143</th>\n",
       "      <td>1960-12</td>\n",
       "      <td>432.0</td>\n",
       "    </tr>\n",
       "    <tr>\n",
       "      <th>144</th>\n",
       "      <td>International airline passengers: monthly tota...</td>\n",
       "      <td>NaN</td>\n",
       "    </tr>\n",
       "  </tbody>\n",
       "</table>\n",
       "</div>"
      ],
      "text/plain": [
       "                                                 Month  \\\n",
       "140                                            1960-09   \n",
       "141                                            1960-10   \n",
       "142                                            1960-11   \n",
       "143                                            1960-12   \n",
       "144  International airline passengers: monthly tota...   \n",
       "\n",
       "     Thousands of Passengers  \n",
       "140                    508.0  \n",
       "141                    461.0  \n",
       "142                    390.0  \n",
       "143                    432.0  \n",
       "144                      NaN  "
      ]
     },
     "execution_count": 22,
     "metadata": {},
     "output_type": "execute_result"
    }
   ],
   "source": [
    "df_airline.tail()"
   ]
  },
  {
   "cell_type": "code",
   "execution_count": 23,
   "id": "6c6ff273",
   "metadata": {},
   "outputs": [
    {
     "data": {
      "text/plain": [
       "Month                      0\n",
       "Thousands of Passengers    1\n",
       "dtype: int64"
      ]
     },
     "execution_count": 23,
     "metadata": {},
     "output_type": "execute_result"
    }
   ],
   "source": [
    "df_airline.isnull().sum()"
   ]
  },
  {
   "cell_type": "code",
   "execution_count": 24,
   "id": "10feedca",
   "metadata": {},
   "outputs": [],
   "source": [
    "df_airline.dropna(axis=0,inplace=True)"
   ]
  },
  {
   "cell_type": "code",
   "execution_count": 25,
   "id": "78ac1d78",
   "metadata": {},
   "outputs": [
    {
     "name": "stdout",
     "output_type": "stream",
     "text": [
      "<class 'pandas.core.frame.DataFrame'>\n",
      "Int64Index: 144 entries, 0 to 143\n",
      "Data columns (total 2 columns):\n",
      " #   Column                   Non-Null Count  Dtype  \n",
      "---  ------                   --------------  -----  \n",
      " 0   Month                    144 non-null    object \n",
      " 1   Thousands of Passengers  144 non-null    float64\n",
      "dtypes: float64(1), object(1)\n",
      "memory usage: 3.4+ KB\n"
     ]
    }
   ],
   "source": [
    "df_airline.info()"
   ]
  },
  {
   "cell_type": "code",
   "execution_count": 26,
   "id": "fb5bde68",
   "metadata": {},
   "outputs": [
    {
     "name": "stdout",
     "output_type": "stream",
     "text": [
      "<class 'pandas.core.frame.DataFrame'>\n",
      "Int64Index: 144 entries, 0 to 143\n",
      "Data columns (total 2 columns):\n",
      " #   Column                   Non-Null Count  Dtype         \n",
      "---  ------                   --------------  -----         \n",
      " 0   Month                    144 non-null    datetime64[ns]\n",
      " 1   Thousands of Passengers  144 non-null    float64       \n",
      "dtypes: datetime64[ns](1), float64(1)\n",
      "memory usage: 3.4 KB\n"
     ]
    }
   ],
   "source": [
    "df_airline['Month']=pd.to_datetime(df_airline['Month'])\n",
    "df_airline.info()"
   ]
  },
  {
   "cell_type": "code",
   "execution_count": 27,
   "id": "211c43b4",
   "metadata": {},
   "outputs": [
    {
     "data": {
      "text/html": [
       "<div>\n",
       "<style scoped>\n",
       "    .dataframe tbody tr th:only-of-type {\n",
       "        vertical-align: middle;\n",
       "    }\n",
       "\n",
       "    .dataframe tbody tr th {\n",
       "        vertical-align: top;\n",
       "    }\n",
       "\n",
       "    .dataframe thead th {\n",
       "        text-align: right;\n",
       "    }\n",
       "</style>\n",
       "<table border=\"1\" class=\"dataframe\">\n",
       "  <thead>\n",
       "    <tr style=\"text-align: right;\">\n",
       "      <th></th>\n",
       "      <th>Month</th>\n",
       "      <th>Thousands of Passengers</th>\n",
       "    </tr>\n",
       "  </thead>\n",
       "  <tbody>\n",
       "    <tr>\n",
       "      <th>0</th>\n",
       "      <td>1949-01-01</td>\n",
       "      <td>112.0</td>\n",
       "    </tr>\n",
       "    <tr>\n",
       "      <th>1</th>\n",
       "      <td>1949-02-01</td>\n",
       "      <td>118.0</td>\n",
       "    </tr>\n",
       "    <tr>\n",
       "      <th>2</th>\n",
       "      <td>1949-03-01</td>\n",
       "      <td>132.0</td>\n",
       "    </tr>\n",
       "    <tr>\n",
       "      <th>3</th>\n",
       "      <td>1949-04-01</td>\n",
       "      <td>129.0</td>\n",
       "    </tr>\n",
       "    <tr>\n",
       "      <th>4</th>\n",
       "      <td>1949-05-01</td>\n",
       "      <td>121.0</td>\n",
       "    </tr>\n",
       "  </tbody>\n",
       "</table>\n",
       "</div>"
      ],
      "text/plain": [
       "       Month  Thousands of Passengers\n",
       "0 1949-01-01                    112.0\n",
       "1 1949-02-01                    118.0\n",
       "2 1949-03-01                    132.0\n",
       "3 1949-04-01                    129.0\n",
       "4 1949-05-01                    121.0"
      ]
     },
     "execution_count": 27,
     "metadata": {},
     "output_type": "execute_result"
    }
   ],
   "source": [
    "df_airline.head()"
   ]
  },
  {
   "cell_type": "code",
   "execution_count": 28,
   "id": "e5130d88",
   "metadata": {},
   "outputs": [
    {
     "data": {
      "text/html": [
       "<div>\n",
       "<style scoped>\n",
       "    .dataframe tbody tr th:only-of-type {\n",
       "        vertical-align: middle;\n",
       "    }\n",
       "\n",
       "    .dataframe tbody tr th {\n",
       "        vertical-align: top;\n",
       "    }\n",
       "\n",
       "    .dataframe thead th {\n",
       "        text-align: right;\n",
       "    }\n",
       "</style>\n",
       "<table border=\"1\" class=\"dataframe\">\n",
       "  <thead>\n",
       "    <tr style=\"text-align: right;\">\n",
       "      <th></th>\n",
       "      <th>Thousands of Passengers</th>\n",
       "    </tr>\n",
       "    <tr>\n",
       "      <th>Month</th>\n",
       "      <th></th>\n",
       "    </tr>\n",
       "  </thead>\n",
       "  <tbody>\n",
       "    <tr>\n",
       "      <th>1949-01-01</th>\n",
       "      <td>112.0</td>\n",
       "    </tr>\n",
       "    <tr>\n",
       "      <th>1949-02-01</th>\n",
       "      <td>118.0</td>\n",
       "    </tr>\n",
       "    <tr>\n",
       "      <th>1949-03-01</th>\n",
       "      <td>132.0</td>\n",
       "    </tr>\n",
       "    <tr>\n",
       "      <th>1949-04-01</th>\n",
       "      <td>129.0</td>\n",
       "    </tr>\n",
       "    <tr>\n",
       "      <th>1949-05-01</th>\n",
       "      <td>121.0</td>\n",
       "    </tr>\n",
       "  </tbody>\n",
       "</table>\n",
       "</div>"
      ],
      "text/plain": [
       "            Thousands of Passengers\n",
       "Month                              \n",
       "1949-01-01                    112.0\n",
       "1949-02-01                    118.0\n",
       "1949-03-01                    132.0\n",
       "1949-04-01                    129.0\n",
       "1949-05-01                    121.0"
      ]
     },
     "execution_count": 28,
     "metadata": {},
     "output_type": "execute_result"
    }
   ],
   "source": [
    "df_airline.set_index('Month',inplace=True)\n",
    "df_airline.head()"
   ]
  },
  {
   "cell_type": "code",
   "execution_count": 29,
   "id": "9cf0dc31",
   "metadata": {},
   "outputs": [
    {
     "data": {
      "text/plain": [
       "<AxesSubplot:xlabel='Month'>"
      ]
     },
     "execution_count": 29,
     "metadata": {},
     "output_type": "execute_result"
    },
    {
     "data": {
      "image/png": "[encoded data removed]",
      "text/plain": [
       "<Figure size 432x288 with 1 Axes>"
      ]
     },
     "metadata": {
      "needs_background": "light"
     },
     "output_type": "display_data"
    }
   ],
   "source": [
    "df_airline.plot()"
   ]
  },
  {
   "cell_type": "markdown",
   "id": "2cc7f764",
   "metadata": {},
   "source": [
    "#### Dickey Fuller Test"
   ]
  },
  {
   "cell_type": "code",
   "execution_count": 30,
   "id": "6171ea9b",
   "metadata": {},
   "outputs": [],
   "source": [
    "from statsmodels.tsa.stattools import adfuller"
   ]
  },
  {
   "cell_type": "code",
   "execution_count": 31,
   "id": "22ee0efa",
   "metadata": {},
   "outputs": [],
   "source": [
    "def adf_test(series):\n",
    "    result = adfuller(series)\n",
    "    print('ADF Statistics: {}'.format(result[0]))\n",
    "    print('p- value: {}'.format(result[1]))\n",
    "    if result[1] <= 0.05:\n",
    "        print(\"strong evidence against the null hypothesis, reject the null hypothesis. Data has no unit root and it is stationary\")\n",
    "    else:\n",
    "        print(\"weak evidence against null hypothesis, time series has a unit root, indicating it is non-stationary \")\n"
   ]
  },
  {
   "cell_type": "code",
   "execution_count": 32,
   "id": "c9f7954d",
   "metadata": {},
   "outputs": [
    {
     "name": "stdout",
     "output_type": "stream",
     "text": [
      "ADF Statistics: 0.8153688792060463\n",
      "p- value: 0.991880243437641\n",
      "weak evidence against null hypothesis, time series has a unit root, indicating it is non-stationary \n"
     ]
    }
   ],
   "source": [
    "adf_test(df_airline['Thousands of Passengers'])"
   ]
  },
  {
   "cell_type": "code",
   "execution_count": 33,
   "id": "aa12f0b3",
   "metadata": {},
   "outputs": [],
   "source": [
    "# Use Techniques Differencing\n",
    "df_airline['Passengers First Difference'] = df_airline['Thousands of Passengers']-df_airline['Thousands of Passengers'].shift(1)"
   ]
  },
  {
   "cell_type": "code",
   "execution_count": 34,
   "id": "9c8ca558",
   "metadata": {},
   "outputs": [
    {
     "data": {
      "text/html": [
       "<div>\n",
       "<style scoped>\n",
       "    .dataframe tbody tr th:only-of-type {\n",
       "        vertical-align: middle;\n",
       "    }\n",
       "\n",
       "    .dataframe tbody tr th {\n",
       "        vertical-align: top;\n",
       "    }\n",
       "\n",
       "    .dataframe thead th {\n",
       "        text-align: right;\n",
       "    }\n",
       "</style>\n",
       "<table border=\"1\" class=\"dataframe\">\n",
       "  <thead>\n",
       "    <tr style=\"text-align: right;\">\n",
       "      <th></th>\n",
       "      <th>Thousands of Passengers</th>\n",
       "      <th>Passengers First Difference</th>\n",
       "    </tr>\n",
       "    <tr>\n",
       "      <th>Month</th>\n",
       "      <th></th>\n",
       "      <th></th>\n",
       "    </tr>\n",
       "  </thead>\n",
       "  <tbody>\n",
       "    <tr>\n",
       "      <th>1949-01-01</th>\n",
       "      <td>112.0</td>\n",
       "      <td>NaN</td>\n",
       "    </tr>\n",
       "    <tr>\n",
       "      <th>1949-02-01</th>\n",
       "      <td>118.0</td>\n",
       "      <td>6.0</td>\n",
       "    </tr>\n",
       "    <tr>\n",
       "      <th>1949-03-01</th>\n",
       "      <td>132.0</td>\n",
       "      <td>14.0</td>\n",
       "    </tr>\n",
       "    <tr>\n",
       "      <th>1949-04-01</th>\n",
       "      <td>129.0</td>\n",
       "      <td>-3.0</td>\n",
       "    </tr>\n",
       "    <tr>\n",
       "      <th>1949-05-01</th>\n",
       "      <td>121.0</td>\n",
       "      <td>-8.0</td>\n",
       "    </tr>\n",
       "  </tbody>\n",
       "</table>\n",
       "</div>"
      ],
      "text/plain": [
       "            Thousands of Passengers  Passengers First Difference\n",
       "Month                                                           \n",
       "1949-01-01                    112.0                          NaN\n",
       "1949-02-01                    118.0                          6.0\n",
       "1949-03-01                    132.0                         14.0\n",
       "1949-04-01                    129.0                         -3.0\n",
       "1949-05-01                    121.0                         -8.0"
      ]
     },
     "execution_count": 34,
     "metadata": {},
     "output_type": "execute_result"
    }
   ],
   "source": [
    "df_airline.head()"
   ]
  },
  {
   "cell_type": "code",
   "execution_count": 35,
   "id": "5621fcf7",
   "metadata": {},
   "outputs": [
    {
     "name": "stdout",
     "output_type": "stream",
     "text": [
      "ADF Statistics: -2.8292668241699923\n",
      "p- value: 0.054213290283826474\n",
      "weak evidence against null hypothesis, time series has a unit root, indicating it is non-stationary \n"
     ]
    }
   ],
   "source": [
    "adf_test(df_airline['Passengers First Difference'].dropna())"
   ]
  },
  {
   "cell_type": "code",
   "execution_count": 36,
   "id": "b93d7936",
   "metadata": {},
   "outputs": [
    {
     "data": {
      "text/html": [
       "<div>\n",
       "<style scoped>\n",
       "    .dataframe tbody tr th:only-of-type {\n",
       "        vertical-align: middle;\n",
       "    }\n",
       "\n",
       "    .dataframe tbody tr th {\n",
       "        vertical-align: top;\n",
       "    }\n",
       "\n",
       "    .dataframe thead th {\n",
       "        text-align: right;\n",
       "    }\n",
       "</style>\n",
       "<table border=\"1\" class=\"dataframe\">\n",
       "  <thead>\n",
       "    <tr style=\"text-align: right;\">\n",
       "      <th></th>\n",
       "      <th>Thousands of Passengers</th>\n",
       "      <th>Passengers First Difference</th>\n",
       "      <th>Passengers Second Difference</th>\n",
       "    </tr>\n",
       "    <tr>\n",
       "      <th>Month</th>\n",
       "      <th></th>\n",
       "      <th></th>\n",
       "      <th></th>\n",
       "    </tr>\n",
       "  </thead>\n",
       "  <tbody>\n",
       "    <tr>\n",
       "      <th>1949-01-01</th>\n",
       "      <td>112.0</td>\n",
       "      <td>NaN</td>\n",
       "      <td>NaN</td>\n",
       "    </tr>\n",
       "    <tr>\n",
       "      <th>1949-02-01</th>\n",
       "      <td>118.0</td>\n",
       "      <td>6.0</td>\n",
       "      <td>NaN</td>\n",
       "    </tr>\n",
       "    <tr>\n",
       "      <th>1949-03-01</th>\n",
       "      <td>132.0</td>\n",
       "      <td>14.0</td>\n",
       "      <td>20.0</td>\n",
       "    </tr>\n",
       "    <tr>\n",
       "      <th>1949-04-01</th>\n",
       "      <td>129.0</td>\n",
       "      <td>-3.0</td>\n",
       "      <td>11.0</td>\n",
       "    </tr>\n",
       "    <tr>\n",
       "      <th>1949-05-01</th>\n",
       "      <td>121.0</td>\n",
       "      <td>-8.0</td>\n",
       "      <td>-11.0</td>\n",
       "    </tr>\n",
       "  </tbody>\n",
       "</table>\n",
       "</div>"
      ],
      "text/plain": [
       "            Thousands of Passengers  Passengers First Difference  \\\n",
       "Month                                                              \n",
       "1949-01-01                    112.0                          NaN   \n",
       "1949-02-01                    118.0                          6.0   \n",
       "1949-03-01                    132.0                         14.0   \n",
       "1949-04-01                    129.0                         -3.0   \n",
       "1949-05-01                    121.0                         -8.0   \n",
       "\n",
       "            Passengers Second Difference  \n",
       "Month                                     \n",
       "1949-01-01                           NaN  \n",
       "1949-02-01                           NaN  \n",
       "1949-03-01                          20.0  \n",
       "1949-04-01                          11.0  \n",
       "1949-05-01                         -11.0  "
      ]
     },
     "execution_count": 36,
     "metadata": {},
     "output_type": "execute_result"
    }
   ],
   "source": [
    "df_airline['Passengers Second Difference'] = df_airline['Thousands of Passengers']-df_airline['Thousands of Passengers'].shift(2)\n",
    "df_airline.head()"
   ]
  },
  {
   "cell_type": "code",
   "execution_count": 37,
   "id": "dc42aa91",
   "metadata": {},
   "outputs": [
    {
     "name": "stdout",
     "output_type": "stream",
     "text": [
      "ADF Statistics: -2.961695135555423\n",
      "p- value: 0.038629757676988535\n",
      "strong evidence against the null hypothesis, reject the null hypothesis. Data has no unit root and it is stationary\n"
     ]
    }
   ],
   "source": [
    "adf_test(df_airline['Passengers Second Difference'].dropna())"
   ]
  },
  {
   "cell_type": "code",
   "execution_count": 38,
   "id": "c2b165a6",
   "metadata": {},
   "outputs": [
    {
     "name": "stdout",
     "output_type": "stream",
     "text": [
      "ADF Statistics: -3.383020726492481\n",
      "p- value: 0.011551493085514954\n",
      "strong evidence against the null hypothesis, reject the null hypothesis. Data has no unit root and it is stationary\n"
     ]
    }
   ],
   "source": [
    "df_airline['Passengers 12 Difference'] = df_airline['Thousands of Passengers']-df_airline['Thousands of Passengers'].shift(12)\n",
    "adf_test(df_airline['Passengers 12 Difference'].dropna())"
   ]
  },
  {
   "cell_type": "markdown",
   "id": "0c2086d8",
   "metadata": {},
   "source": [
    "#### \n",
    "1. acf - auto co-relation (find q value - Moving Average)   \n",
    "2. pacf - partial auto co-relation (find p value - Auto Regression)\n",
    "3. (d - diffrence) \n",
    "4. (s - season(months))\n",
    "4. ARIMA - Parameters (p,d,q)\n",
    "5. SARIMAX - Parameters (p,d,q,s)"
   ]
  },
  {
   "cell_type": "code",
   "execution_count": 39,
   "id": "827b9fd9",
   "metadata": {},
   "outputs": [],
   "source": [
    "from statsmodels.graphics.tsaplots import plot_acf,plot_pacf"
   ]
  },
  {
   "cell_type": "code",
   "execution_count": 40,
   "id": "28678b28",
   "metadata": {},
   "outputs": [
    {
     "data": {
      "image/png": "[encoded data removed]",
      "text/plain": [
       "<Figure size 432x288 with 1 Axes>"
      ]
     },
     "metadata": {
      "needs_background": "light"
     },
     "output_type": "display_data"
    }
   ],
   "source": [
    "acf2 = plot_acf(df_airline[\"Passengers Second Difference\"].dropna())"
   ]
  },
  {
   "cell_type": "code",
   "execution_count": 41,
   "id": "cadfee07",
   "metadata": {},
   "outputs": [
    {
     "data": {
      "image/png": "[encoded data removed]",
      "text/plain": [
       "<Figure size 432x288 with 1 Axes>"
      ]
     },
     "metadata": {
      "needs_background": "light"
     },
     "output_type": "display_data"
    }
   ],
   "source": [
    "acf12 = plot_acf(df_airline[\"Passengers 12 Difference\"].dropna())"
   ]
  },
  {
   "cell_type": "code",
   "execution_count": 42,
   "id": "eb556fd9",
   "metadata": {},
   "outputs": [
    {
     "name": "stderr",
     "output_type": "stream",
     "text": [
      "C:\\Users\\user\\anaconda3\\lib\\site-packages\\statsmodels\\graphics\\tsaplots.py:348: FutureWarning: The default method 'yw' can produce PACF values outside of the [-1,1] interval. After 0.13, the default will change tounadjusted Yule-Walker ('ywm'). You can use this method now by setting method='ywm'.\n",
      "  warnings.warn(\n"
     ]
    },
    {
     "data": {
      "image/png": "[encoded data removed]",
      "text/plain": [
       "<Figure size 432x288 with 1 Axes>"
      ]
     },
     "metadata": {
      "needs_background": "light"
     },
     "output_type": "display_data"
    }
   ],
   "source": [
    "pacf2 = plot_pacf(df_airline[\"Passengers Second Difference\"].dropna())"
   ]
  },
  {
   "cell_type": "code",
   "execution_count": 43,
   "id": "cbd64c5e",
   "metadata": {},
   "outputs": [
    {
     "name": "stderr",
     "output_type": "stream",
     "text": [
      "C:\\Users\\user\\anaconda3\\lib\\site-packages\\statsmodels\\graphics\\tsaplots.py:348: FutureWarning: The default method 'yw' can produce PACF values outside of the [-1,1] interval. After 0.13, the default will change tounadjusted Yule-Walker ('ywm'). You can use this method now by setting method='ywm'.\n",
      "  warnings.warn(\n"
     ]
    },
    {
     "data": {
      "image/png": "[encoded data removed]",
      "text/plain": [
       "<Figure size 432x288 with 1 Axes>"
      ]
     },
     "metadata": {
      "needs_background": "light"
     },
     "output_type": "display_data"
    }
   ],
   "source": [
    "pacf12 = plot_pacf(df_airline[\"Passengers 12 Difference\"].dropna())"
   ]
  },
  {
   "cell_type": "code",
   "execution_count": 44,
   "id": "231a40e4",
   "metadata": {},
   "outputs": [
    {
     "data": {
      "text/html": [
       "<div>\n",
       "<style scoped>\n",
       "    .dataframe tbody tr th:only-of-type {\n",
       "        vertical-align: middle;\n",
       "    }\n",
       "\n",
       "    .dataframe tbody tr th {\n",
       "        vertical-align: top;\n",
       "    }\n",
       "\n",
       "    .dataframe thead th {\n",
       "        text-align: right;\n",
       "    }\n",
       "</style>\n",
       "<table border=\"1\" class=\"dataframe\">\n",
       "  <thead>\n",
       "    <tr style=\"text-align: right;\">\n",
       "      <th></th>\n",
       "      <th>Thousands of Passengers</th>\n",
       "      <th>Passengers First Difference</th>\n",
       "      <th>Passengers Second Difference</th>\n",
       "      <th>Passengers 12 Difference</th>\n",
       "    </tr>\n",
       "    <tr>\n",
       "      <th>Month</th>\n",
       "      <th></th>\n",
       "      <th></th>\n",
       "      <th></th>\n",
       "      <th></th>\n",
       "    </tr>\n",
       "  </thead>\n",
       "  <tbody>\n",
       "    <tr>\n",
       "      <th>1949-01-01</th>\n",
       "      <td>112.0</td>\n",
       "      <td>NaN</td>\n",
       "      <td>NaN</td>\n",
       "      <td>NaN</td>\n",
       "    </tr>\n",
       "    <tr>\n",
       "      <th>1949-02-01</th>\n",
       "      <td>118.0</td>\n",
       "      <td>6.0</td>\n",
       "      <td>NaN</td>\n",
       "      <td>NaN</td>\n",
       "    </tr>\n",
       "    <tr>\n",
       "      <th>1949-03-01</th>\n",
       "      <td>132.0</td>\n",
       "      <td>14.0</td>\n",
       "      <td>20.0</td>\n",
       "      <td>NaN</td>\n",
       "    </tr>\n",
       "    <tr>\n",
       "      <th>1949-04-01</th>\n",
       "      <td>129.0</td>\n",
       "      <td>-3.0</td>\n",
       "      <td>11.0</td>\n",
       "      <td>NaN</td>\n",
       "    </tr>\n",
       "    <tr>\n",
       "      <th>1949-05-01</th>\n",
       "      <td>121.0</td>\n",
       "      <td>-8.0</td>\n",
       "      <td>-11.0</td>\n",
       "      <td>NaN</td>\n",
       "    </tr>\n",
       "    <tr>\n",
       "      <th>...</th>\n",
       "      <td>...</td>\n",
       "      <td>...</td>\n",
       "      <td>...</td>\n",
       "      <td>...</td>\n",
       "    </tr>\n",
       "    <tr>\n",
       "      <th>1960-08-01</th>\n",
       "      <td>606.0</td>\n",
       "      <td>-16.0</td>\n",
       "      <td>71.0</td>\n",
       "      <td>47.0</td>\n",
       "    </tr>\n",
       "    <tr>\n",
       "      <th>1960-09-01</th>\n",
       "      <td>508.0</td>\n",
       "      <td>-98.0</td>\n",
       "      <td>-114.0</td>\n",
       "      <td>45.0</td>\n",
       "    </tr>\n",
       "    <tr>\n",
       "      <th>1960-10-01</th>\n",
       "      <td>461.0</td>\n",
       "      <td>-47.0</td>\n",
       "      <td>-145.0</td>\n",
       "      <td>54.0</td>\n",
       "    </tr>\n",
       "    <tr>\n",
       "      <th>1960-11-01</th>\n",
       "      <td>390.0</td>\n",
       "      <td>-71.0</td>\n",
       "      <td>-118.0</td>\n",
       "      <td>28.0</td>\n",
       "    </tr>\n",
       "    <tr>\n",
       "      <th>1960-12-01</th>\n",
       "      <td>432.0</td>\n",
       "      <td>42.0</td>\n",
       "      <td>-29.0</td>\n",
       "      <td>27.0</td>\n",
       "    </tr>\n",
       "  </tbody>\n",
       "</table>\n",
       "<p>144 rows × 4 columns</p>\n",
       "</div>"
      ],
      "text/plain": [
       "            Thousands of Passengers  Passengers First Difference  \\\n",
       "Month                                                              \n",
       "1949-01-01                    112.0                          NaN   \n",
       "1949-02-01                    118.0                          6.0   \n",
       "1949-03-01                    132.0                         14.0   \n",
       "1949-04-01                    129.0                         -3.0   \n",
       "1949-05-01                    121.0                         -8.0   \n",
       "...                             ...                          ...   \n",
       "1960-08-01                    606.0                        -16.0   \n",
       "1960-09-01                    508.0                        -98.0   \n",
       "1960-10-01                    461.0                        -47.0   \n",
       "1960-11-01                    390.0                        -71.0   \n",
       "1960-12-01                    432.0                         42.0   \n",
       "\n",
       "            Passengers Second Difference  Passengers 12 Difference  \n",
       "Month                                                               \n",
       "1949-01-01                           NaN                       NaN  \n",
       "1949-02-01                           NaN                       NaN  \n",
       "1949-03-01                          20.0                       NaN  \n",
       "1949-04-01                          11.0                       NaN  \n",
       "1949-05-01                         -11.0                       NaN  \n",
       "...                                  ...                       ...  \n",
       "1960-08-01                          71.0                      47.0  \n",
       "1960-09-01                        -114.0                      45.0  \n",
       "1960-10-01                        -145.0                      54.0  \n",
       "1960-11-01                        -118.0                      28.0  \n",
       "1960-12-01                         -29.0                      27.0  \n",
       "\n",
       "[144 rows x 4 columns]"
      ]
     },
     "execution_count": 44,
     "metadata": {},
     "output_type": "execute_result"
    }
   ],
   "source": [
    "df_airline"
   ]
  },
  {
   "cell_type": "code",
   "execution_count": 45,
   "id": "2862909d",
   "metadata": {},
   "outputs": [],
   "source": [
    "# split train and test data\n",
    "from datetime import datetime,timedelta\n",
    "train_dataset_end = datetime(1955,12,1)\n",
    "test_dataset_end = datetime(1960,12,1)"
   ]
  },
  {
   "cell_type": "code",
   "execution_count": 46,
   "id": "5acc249b",
   "metadata": {},
   "outputs": [],
   "source": [
    "train_data = df_airline[:train_dataset_end]\n",
    "test_data = df_airline[train_dataset_end+timedelta(days=1):test_dataset_end]"
   ]
  },
  {
   "cell_type": "code",
   "execution_count": 47,
   "id": "1e04e7c8",
   "metadata": {},
   "outputs": [
    {
     "data": {
      "text/html": [
       "<div>\n",
       "<style scoped>\n",
       "    .dataframe tbody tr th:only-of-type {\n",
       "        vertical-align: middle;\n",
       "    }\n",
       "\n",
       "    .dataframe tbody tr th {\n",
       "        vertical-align: top;\n",
       "    }\n",
       "\n",
       "    .dataframe thead th {\n",
       "        text-align: right;\n",
       "    }\n",
       "</style>\n",
       "<table border=\"1\" class=\"dataframe\">\n",
       "  <thead>\n",
       "    <tr style=\"text-align: right;\">\n",
       "      <th></th>\n",
       "      <th>Thousands of Passengers</th>\n",
       "      <th>Passengers First Difference</th>\n",
       "      <th>Passengers Second Difference</th>\n",
       "      <th>Passengers 12 Difference</th>\n",
       "    </tr>\n",
       "    <tr>\n",
       "      <th>Month</th>\n",
       "      <th></th>\n",
       "      <th></th>\n",
       "      <th></th>\n",
       "      <th></th>\n",
       "    </tr>\n",
       "  </thead>\n",
       "  <tbody>\n",
       "    <tr>\n",
       "      <th>1949-01-01</th>\n",
       "      <td>112.0</td>\n",
       "      <td>NaN</td>\n",
       "      <td>NaN</td>\n",
       "      <td>NaN</td>\n",
       "    </tr>\n",
       "    <tr>\n",
       "      <th>1949-02-01</th>\n",
       "      <td>118.0</td>\n",
       "      <td>6.0</td>\n",
       "      <td>NaN</td>\n",
       "      <td>NaN</td>\n",
       "    </tr>\n",
       "    <tr>\n",
       "      <th>1949-03-01</th>\n",
       "      <td>132.0</td>\n",
       "      <td>14.0</td>\n",
       "      <td>20.0</td>\n",
       "      <td>NaN</td>\n",
       "    </tr>\n",
       "    <tr>\n",
       "      <th>1949-04-01</th>\n",
       "      <td>129.0</td>\n",
       "      <td>-3.0</td>\n",
       "      <td>11.0</td>\n",
       "      <td>NaN</td>\n",
       "    </tr>\n",
       "    <tr>\n",
       "      <th>1949-05-01</th>\n",
       "      <td>121.0</td>\n",
       "      <td>-8.0</td>\n",
       "      <td>-11.0</td>\n",
       "      <td>NaN</td>\n",
       "    </tr>\n",
       "    <tr>\n",
       "      <th>...</th>\n",
       "      <td>...</td>\n",
       "      <td>...</td>\n",
       "      <td>...</td>\n",
       "      <td>...</td>\n",
       "    </tr>\n",
       "    <tr>\n",
       "      <th>1955-08-01</th>\n",
       "      <td>347.0</td>\n",
       "      <td>-17.0</td>\n",
       "      <td>32.0</td>\n",
       "      <td>54.0</td>\n",
       "    </tr>\n",
       "    <tr>\n",
       "      <th>1955-09-01</th>\n",
       "      <td>312.0</td>\n",
       "      <td>-35.0</td>\n",
       "      <td>-52.0</td>\n",
       "      <td>53.0</td>\n",
       "    </tr>\n",
       "    <tr>\n",
       "      <th>1955-10-01</th>\n",
       "      <td>274.0</td>\n",
       "      <td>-38.0</td>\n",
       "      <td>-73.0</td>\n",
       "      <td>45.0</td>\n",
       "    </tr>\n",
       "    <tr>\n",
       "      <th>1955-11-01</th>\n",
       "      <td>237.0</td>\n",
       "      <td>-37.0</td>\n",
       "      <td>-75.0</td>\n",
       "      <td>34.0</td>\n",
       "    </tr>\n",
       "    <tr>\n",
       "      <th>1955-12-01</th>\n",
       "      <td>278.0</td>\n",
       "      <td>41.0</td>\n",
       "      <td>4.0</td>\n",
       "      <td>49.0</td>\n",
       "    </tr>\n",
       "  </tbody>\n",
       "</table>\n",
       "<p>84 rows × 4 columns</p>\n",
       "</div>"
      ],
      "text/plain": [
       "            Thousands of Passengers  Passengers First Difference  \\\n",
       "Month                                                              \n",
       "1949-01-01                    112.0                          NaN   \n",
       "1949-02-01                    118.0                          6.0   \n",
       "1949-03-01                    132.0                         14.0   \n",
       "1949-04-01                    129.0                         -3.0   \n",
       "1949-05-01                    121.0                         -8.0   \n",
       "...                             ...                          ...   \n",
       "1955-08-01                    347.0                        -17.0   \n",
       "1955-09-01                    312.0                        -35.0   \n",
       "1955-10-01                    274.0                        -38.0   \n",
       "1955-11-01                    237.0                        -37.0   \n",
       "1955-12-01                    278.0                         41.0   \n",
       "\n",
       "            Passengers Second Difference  Passengers 12 Difference  \n",
       "Month                                                               \n",
       "1949-01-01                           NaN                       NaN  \n",
       "1949-02-01                           NaN                       NaN  \n",
       "1949-03-01                          20.0                       NaN  \n",
       "1949-04-01                          11.0                       NaN  \n",
       "1949-05-01                         -11.0                       NaN  \n",
       "...                                  ...                       ...  \n",
       "1955-08-01                          32.0                      54.0  \n",
       "1955-09-01                         -52.0                      53.0  \n",
       "1955-10-01                         -73.0                      45.0  \n",
       "1955-11-01                         -75.0                      34.0  \n",
       "1955-12-01                           4.0                      49.0  \n",
       "\n",
       "[84 rows x 4 columns]"
      ]
     },
     "execution_count": 47,
     "metadata": {},
     "output_type": "execute_result"
    }
   ],
   "source": [
    "train_data"
   ]
  },
  {
   "cell_type": "code",
   "execution_count": 48,
   "id": "02b1db77",
   "metadata": {},
   "outputs": [
    {
     "data": {
      "text/html": [
       "<div>\n",
       "<style scoped>\n",
       "    .dataframe tbody tr th:only-of-type {\n",
       "        vertical-align: middle;\n",
       "    }\n",
       "\n",
       "    .dataframe tbody tr th {\n",
       "        vertical-align: top;\n",
       "    }\n",
       "\n",
       "    .dataframe thead th {\n",
       "        text-align: right;\n",
       "    }\n",
       "</style>\n",
       "<table border=\"1\" class=\"dataframe\">\n",
       "  <thead>\n",
       "    <tr style=\"text-align: right;\">\n",
       "      <th></th>\n",
       "      <th>Thousands of Passengers</th>\n",
       "      <th>Passengers First Difference</th>\n",
       "      <th>Passengers Second Difference</th>\n",
       "      <th>Passengers 12 Difference</th>\n",
       "    </tr>\n",
       "    <tr>\n",
       "      <th>Month</th>\n",
       "      <th></th>\n",
       "      <th></th>\n",
       "      <th></th>\n",
       "      <th></th>\n",
       "    </tr>\n",
       "  </thead>\n",
       "  <tbody>\n",
       "    <tr>\n",
       "      <th>1956-01-01</th>\n",
       "      <td>284.0</td>\n",
       "      <td>6.0</td>\n",
       "      <td>47.0</td>\n",
       "      <td>42.0</td>\n",
       "    </tr>\n",
       "    <tr>\n",
       "      <th>1956-02-01</th>\n",
       "      <td>277.0</td>\n",
       "      <td>-7.0</td>\n",
       "      <td>-1.0</td>\n",
       "      <td>44.0</td>\n",
       "    </tr>\n",
       "    <tr>\n",
       "      <th>1956-03-01</th>\n",
       "      <td>317.0</td>\n",
       "      <td>40.0</td>\n",
       "      <td>33.0</td>\n",
       "      <td>50.0</td>\n",
       "    </tr>\n",
       "    <tr>\n",
       "      <th>1956-04-01</th>\n",
       "      <td>313.0</td>\n",
       "      <td>-4.0</td>\n",
       "      <td>36.0</td>\n",
       "      <td>44.0</td>\n",
       "    </tr>\n",
       "    <tr>\n",
       "      <th>1956-05-01</th>\n",
       "      <td>318.0</td>\n",
       "      <td>5.0</td>\n",
       "      <td>1.0</td>\n",
       "      <td>48.0</td>\n",
       "    </tr>\n",
       "    <tr>\n",
       "      <th>1956-06-01</th>\n",
       "      <td>374.0</td>\n",
       "      <td>56.0</td>\n",
       "      <td>61.0</td>\n",
       "      <td>59.0</td>\n",
       "    </tr>\n",
       "    <tr>\n",
       "      <th>1956-07-01</th>\n",
       "      <td>413.0</td>\n",
       "      <td>39.0</td>\n",
       "      <td>95.0</td>\n",
       "      <td>49.0</td>\n",
       "    </tr>\n",
       "    <tr>\n",
       "      <th>1956-08-01</th>\n",
       "      <td>405.0</td>\n",
       "      <td>-8.0</td>\n",
       "      <td>31.0</td>\n",
       "      <td>58.0</td>\n",
       "    </tr>\n",
       "    <tr>\n",
       "      <th>1956-09-01</th>\n",
       "      <td>355.0</td>\n",
       "      <td>-50.0</td>\n",
       "      <td>-58.0</td>\n",
       "      <td>43.0</td>\n",
       "    </tr>\n",
       "    <tr>\n",
       "      <th>1956-10-01</th>\n",
       "      <td>306.0</td>\n",
       "      <td>-49.0</td>\n",
       "      <td>-99.0</td>\n",
       "      <td>32.0</td>\n",
       "    </tr>\n",
       "    <tr>\n",
       "      <th>1956-11-01</th>\n",
       "      <td>271.0</td>\n",
       "      <td>-35.0</td>\n",
       "      <td>-84.0</td>\n",
       "      <td>34.0</td>\n",
       "    </tr>\n",
       "    <tr>\n",
       "      <th>1956-12-01</th>\n",
       "      <td>306.0</td>\n",
       "      <td>35.0</td>\n",
       "      <td>0.0</td>\n",
       "      <td>28.0</td>\n",
       "    </tr>\n",
       "    <tr>\n",
       "      <th>1957-01-01</th>\n",
       "      <td>315.0</td>\n",
       "      <td>9.0</td>\n",
       "      <td>44.0</td>\n",
       "      <td>31.0</td>\n",
       "    </tr>\n",
       "    <tr>\n",
       "      <th>1957-02-01</th>\n",
       "      <td>301.0</td>\n",
       "      <td>-14.0</td>\n",
       "      <td>-5.0</td>\n",
       "      <td>24.0</td>\n",
       "    </tr>\n",
       "    <tr>\n",
       "      <th>1957-03-01</th>\n",
       "      <td>356.0</td>\n",
       "      <td>55.0</td>\n",
       "      <td>41.0</td>\n",
       "      <td>39.0</td>\n",
       "    </tr>\n",
       "    <tr>\n",
       "      <th>1957-04-01</th>\n",
       "      <td>348.0</td>\n",
       "      <td>-8.0</td>\n",
       "      <td>47.0</td>\n",
       "      <td>35.0</td>\n",
       "    </tr>\n",
       "    <tr>\n",
       "      <th>1957-05-01</th>\n",
       "      <td>355.0</td>\n",
       "      <td>7.0</td>\n",
       "      <td>-1.0</td>\n",
       "      <td>37.0</td>\n",
       "    </tr>\n",
       "    <tr>\n",
       "      <th>1957-06-01</th>\n",
       "      <td>422.0</td>\n",
       "      <td>67.0</td>\n",
       "      <td>74.0</td>\n",
       "      <td>48.0</td>\n",
       "    </tr>\n",
       "    <tr>\n",
       "      <th>1957-07-01</th>\n",
       "      <td>465.0</td>\n",
       "      <td>43.0</td>\n",
       "      <td>110.0</td>\n",
       "      <td>52.0</td>\n",
       "    </tr>\n",
       "    <tr>\n",
       "      <th>1957-08-01</th>\n",
       "      <td>467.0</td>\n",
       "      <td>2.0</td>\n",
       "      <td>45.0</td>\n",
       "      <td>62.0</td>\n",
       "    </tr>\n",
       "    <tr>\n",
       "      <th>1957-09-01</th>\n",
       "      <td>404.0</td>\n",
       "      <td>-63.0</td>\n",
       "      <td>-61.0</td>\n",
       "      <td>49.0</td>\n",
       "    </tr>\n",
       "    <tr>\n",
       "      <th>1957-10-01</th>\n",
       "      <td>347.0</td>\n",
       "      <td>-57.0</td>\n",
       "      <td>-120.0</td>\n",
       "      <td>41.0</td>\n",
       "    </tr>\n",
       "    <tr>\n",
       "      <th>1957-11-01</th>\n",
       "      <td>305.0</td>\n",
       "      <td>-42.0</td>\n",
       "      <td>-99.0</td>\n",
       "      <td>34.0</td>\n",
       "    </tr>\n",
       "    <tr>\n",
       "      <th>1957-12-01</th>\n",
       "      <td>336.0</td>\n",
       "      <td>31.0</td>\n",
       "      <td>-11.0</td>\n",
       "      <td>30.0</td>\n",
       "    </tr>\n",
       "    <tr>\n",
       "      <th>1958-01-01</th>\n",
       "      <td>340.0</td>\n",
       "      <td>4.0</td>\n",
       "      <td>35.0</td>\n",
       "      <td>25.0</td>\n",
       "    </tr>\n",
       "    <tr>\n",
       "      <th>1958-02-01</th>\n",
       "      <td>318.0</td>\n",
       "      <td>-22.0</td>\n",
       "      <td>-18.0</td>\n",
       "      <td>17.0</td>\n",
       "    </tr>\n",
       "    <tr>\n",
       "      <th>1958-03-01</th>\n",
       "      <td>362.0</td>\n",
       "      <td>44.0</td>\n",
       "      <td>22.0</td>\n",
       "      <td>6.0</td>\n",
       "    </tr>\n",
       "    <tr>\n",
       "      <th>1958-04-01</th>\n",
       "      <td>348.0</td>\n",
       "      <td>-14.0</td>\n",
       "      <td>30.0</td>\n",
       "      <td>0.0</td>\n",
       "    </tr>\n",
       "    <tr>\n",
       "      <th>1958-05-01</th>\n",
       "      <td>363.0</td>\n",
       "      <td>15.0</td>\n",
       "      <td>1.0</td>\n",
       "      <td>8.0</td>\n",
       "    </tr>\n",
       "    <tr>\n",
       "      <th>1958-06-01</th>\n",
       "      <td>435.0</td>\n",
       "      <td>72.0</td>\n",
       "      <td>87.0</td>\n",
       "      <td>13.0</td>\n",
       "    </tr>\n",
       "    <tr>\n",
       "      <th>1958-07-01</th>\n",
       "      <td>491.0</td>\n",
       "      <td>56.0</td>\n",
       "      <td>128.0</td>\n",
       "      <td>26.0</td>\n",
       "    </tr>\n",
       "    <tr>\n",
       "      <th>1958-08-01</th>\n",
       "      <td>505.0</td>\n",
       "      <td>14.0</td>\n",
       "      <td>70.0</td>\n",
       "      <td>38.0</td>\n",
       "    </tr>\n",
       "    <tr>\n",
       "      <th>1958-09-01</th>\n",
       "      <td>404.0</td>\n",
       "      <td>-101.0</td>\n",
       "      <td>-87.0</td>\n",
       "      <td>0.0</td>\n",
       "    </tr>\n",
       "    <tr>\n",
       "      <th>1958-10-01</th>\n",
       "      <td>359.0</td>\n",
       "      <td>-45.0</td>\n",
       "      <td>-146.0</td>\n",
       "      <td>12.0</td>\n",
       "    </tr>\n",
       "    <tr>\n",
       "      <th>1958-11-01</th>\n",
       "      <td>310.0</td>\n",
       "      <td>-49.0</td>\n",
       "      <td>-94.0</td>\n",
       "      <td>5.0</td>\n",
       "    </tr>\n",
       "    <tr>\n",
       "      <th>1958-12-01</th>\n",
       "      <td>337.0</td>\n",
       "      <td>27.0</td>\n",
       "      <td>-22.0</td>\n",
       "      <td>1.0</td>\n",
       "    </tr>\n",
       "    <tr>\n",
       "      <th>1959-01-01</th>\n",
       "      <td>360.0</td>\n",
       "      <td>23.0</td>\n",
       "      <td>50.0</td>\n",
       "      <td>20.0</td>\n",
       "    </tr>\n",
       "    <tr>\n",
       "      <th>1959-02-01</th>\n",
       "      <td>342.0</td>\n",
       "      <td>-18.0</td>\n",
       "      <td>5.0</td>\n",
       "      <td>24.0</td>\n",
       "    </tr>\n",
       "    <tr>\n",
       "      <th>1959-03-01</th>\n",
       "      <td>406.0</td>\n",
       "      <td>64.0</td>\n",
       "      <td>46.0</td>\n",
       "      <td>44.0</td>\n",
       "    </tr>\n",
       "    <tr>\n",
       "      <th>1959-04-01</th>\n",
       "      <td>396.0</td>\n",
       "      <td>-10.0</td>\n",
       "      <td>54.0</td>\n",
       "      <td>48.0</td>\n",
       "    </tr>\n",
       "    <tr>\n",
       "      <th>1959-05-01</th>\n",
       "      <td>420.0</td>\n",
       "      <td>24.0</td>\n",
       "      <td>14.0</td>\n",
       "      <td>57.0</td>\n",
       "    </tr>\n",
       "    <tr>\n",
       "      <th>1959-06-01</th>\n",
       "      <td>472.0</td>\n",
       "      <td>52.0</td>\n",
       "      <td>76.0</td>\n",
       "      <td>37.0</td>\n",
       "    </tr>\n",
       "    <tr>\n",
       "      <th>1959-07-01</th>\n",
       "      <td>548.0</td>\n",
       "      <td>76.0</td>\n",
       "      <td>128.0</td>\n",
       "      <td>57.0</td>\n",
       "    </tr>\n",
       "    <tr>\n",
       "      <th>1959-08-01</th>\n",
       "      <td>559.0</td>\n",
       "      <td>11.0</td>\n",
       "      <td>87.0</td>\n",
       "      <td>54.0</td>\n",
       "    </tr>\n",
       "    <tr>\n",
       "      <th>1959-09-01</th>\n",
       "      <td>463.0</td>\n",
       "      <td>-96.0</td>\n",
       "      <td>-85.0</td>\n",
       "      <td>59.0</td>\n",
       "    </tr>\n",
       "    <tr>\n",
       "      <th>1959-10-01</th>\n",
       "      <td>407.0</td>\n",
       "      <td>-56.0</td>\n",
       "      <td>-152.0</td>\n",
       "      <td>48.0</td>\n",
       "    </tr>\n",
       "    <tr>\n",
       "      <th>1959-11-01</th>\n",
       "      <td>362.0</td>\n",
       "      <td>-45.0</td>\n",
       "      <td>-101.0</td>\n",
       "      <td>52.0</td>\n",
       "    </tr>\n",
       "    <tr>\n",
       "      <th>1959-12-01</th>\n",
       "      <td>405.0</td>\n",
       "      <td>43.0</td>\n",
       "      <td>-2.0</td>\n",
       "      <td>68.0</td>\n",
       "    </tr>\n",
       "    <tr>\n",
       "      <th>1960-01-01</th>\n",
       "      <td>417.0</td>\n",
       "      <td>12.0</td>\n",
       "      <td>55.0</td>\n",
       "      <td>57.0</td>\n",
       "    </tr>\n",
       "    <tr>\n",
       "      <th>1960-02-01</th>\n",
       "      <td>391.0</td>\n",
       "      <td>-26.0</td>\n",
       "      <td>-14.0</td>\n",
       "      <td>49.0</td>\n",
       "    </tr>\n",
       "    <tr>\n",
       "      <th>1960-03-01</th>\n",
       "      <td>419.0</td>\n",
       "      <td>28.0</td>\n",
       "      <td>2.0</td>\n",
       "      <td>13.0</td>\n",
       "    </tr>\n",
       "    <tr>\n",
       "      <th>1960-04-01</th>\n",
       "      <td>461.0</td>\n",
       "      <td>42.0</td>\n",
       "      <td>70.0</td>\n",
       "      <td>65.0</td>\n",
       "    </tr>\n",
       "    <tr>\n",
       "      <th>1960-05-01</th>\n",
       "      <td>472.0</td>\n",
       "      <td>11.0</td>\n",
       "      <td>53.0</td>\n",
       "      <td>52.0</td>\n",
       "    </tr>\n",
       "    <tr>\n",
       "      <th>1960-06-01</th>\n",
       "      <td>535.0</td>\n",
       "      <td>63.0</td>\n",
       "      <td>74.0</td>\n",
       "      <td>63.0</td>\n",
       "    </tr>\n",
       "    <tr>\n",
       "      <th>1960-07-01</th>\n",
       "      <td>622.0</td>\n",
       "      <td>87.0</td>\n",
       "      <td>150.0</td>\n",
       "      <td>74.0</td>\n",
       "    </tr>\n",
       "    <tr>\n",
       "      <th>1960-08-01</th>\n",
       "      <td>606.0</td>\n",
       "      <td>-16.0</td>\n",
       "      <td>71.0</td>\n",
       "      <td>47.0</td>\n",
       "    </tr>\n",
       "    <tr>\n",
       "      <th>1960-09-01</th>\n",
       "      <td>508.0</td>\n",
       "      <td>-98.0</td>\n",
       "      <td>-114.0</td>\n",
       "      <td>45.0</td>\n",
       "    </tr>\n",
       "    <tr>\n",
       "      <th>1960-10-01</th>\n",
       "      <td>461.0</td>\n",
       "      <td>-47.0</td>\n",
       "      <td>-145.0</td>\n",
       "      <td>54.0</td>\n",
       "    </tr>\n",
       "    <tr>\n",
       "      <th>1960-11-01</th>\n",
       "      <td>390.0</td>\n",
       "      <td>-71.0</td>\n",
       "      <td>-118.0</td>\n",
       "      <td>28.0</td>\n",
       "    </tr>\n",
       "    <tr>\n",
       "      <th>1960-12-01</th>\n",
       "      <td>432.0</td>\n",
       "      <td>42.0</td>\n",
       "      <td>-29.0</td>\n",
       "      <td>27.0</td>\n",
       "    </tr>\n",
       "  </tbody>\n",
       "</table>\n",
       "</div>"
      ],
      "text/plain": [
       "            Thousands of Passengers  Passengers First Difference  \\\n",
       "Month                                                              \n",
       "1956-01-01                    284.0                          6.0   \n",
       "1956-02-01                    277.0                         -7.0   \n",
       "1956-03-01                    317.0                         40.0   \n",
       "1956-04-01                    313.0                         -4.0   \n",
       "1956-05-01                    318.0                          5.0   \n",
       "1956-06-01                    374.0                         56.0   \n",
       "1956-07-01                    413.0                         39.0   \n",
       "1956-08-01                    405.0                         -8.0   \n",
       "1956-09-01                    355.0                        -50.0   \n",
       "1956-10-01                    306.0                        -49.0   \n",
       "1956-11-01                    271.0                        -35.0   \n",
       "1956-12-01                    306.0                         35.0   \n",
       "1957-01-01                    315.0                          9.0   \n",
       "1957-02-01                    301.0                        -14.0   \n",
       "1957-03-01                    356.0                         55.0   \n",
       "1957-04-01                    348.0                         -8.0   \n",
       "1957-05-01                    355.0                          7.0   \n",
       "1957-06-01                    422.0                         67.0   \n",
       "1957-07-01                    465.0                         43.0   \n",
       "1957-08-01                    467.0                          2.0   \n",
       "1957-09-01                    404.0                        -63.0   \n",
       "1957-10-01                    347.0                        -57.0   \n",
       "1957-11-01                    305.0                        -42.0   \n",
       "1957-12-01                    336.0                         31.0   \n",
       "1958-01-01                    340.0                          4.0   \n",
       "1958-02-01                    318.0                        -22.0   \n",
       "1958-03-01                    362.0                         44.0   \n",
       "1958-04-01                    348.0                        -14.0   \n",
       "1958-05-01                    363.0                         15.0   \n",
       "1958-06-01                    435.0                         72.0   \n",
       "1958-07-01                    491.0                         56.0   \n",
       "1958-08-01                    505.0                         14.0   \n",
       "1958-09-01                    404.0                       -101.0   \n",
       "1958-10-01                    359.0                        -45.0   \n",
       "1958-11-01                    310.0                        -49.0   \n",
       "1958-12-01                    337.0                         27.0   \n",
       "1959-01-01                    360.0                         23.0   \n",
       "1959-02-01                    342.0                        -18.0   \n",
       "1959-03-01                    406.0                         64.0   \n",
       "1959-04-01                    396.0                        -10.0   \n",
       "1959-05-01                    420.0                         24.0   \n",
       "1959-06-01                    472.0                         52.0   \n",
       "1959-07-01                    548.0                         76.0   \n",
       "1959-08-01                    559.0                         11.0   \n",
       "1959-09-01                    463.0                        -96.0   \n",
       "1959-10-01                    407.0                        -56.0   \n",
       "1959-11-01                    362.0                        -45.0   \n",
       "1959-12-01                    405.0                         43.0   \n",
       "1960-01-01                    417.0                         12.0   \n",
       "1960-02-01                    391.0                        -26.0   \n",
       "1960-03-01                    419.0                         28.0   \n",
       "1960-04-01                    461.0                         42.0   \n",
       "1960-05-01                    472.0                         11.0   \n",
       "1960-06-01                    535.0                         63.0   \n",
       "1960-07-01                    622.0                         87.0   \n",
       "1960-08-01                    606.0                        -16.0   \n",
       "1960-09-01                    508.0                        -98.0   \n",
       "1960-10-01                    461.0                        -47.0   \n",
       "1960-11-01                    390.0                        -71.0   \n",
       "1960-12-01                    432.0                         42.0   \n",
       "\n",
       "            Passengers Second Difference  Passengers 12 Difference  \n",
       "Month                                                               \n",
       "1956-01-01                          47.0                      42.0  \n",
       "1956-02-01                          -1.0                      44.0  \n",
       "1956-03-01                          33.0                      50.0  \n",
       "1956-04-01                          36.0                      44.0  \n",
       "1956-05-01                           1.0                      48.0  \n",
       "1956-06-01                          61.0                      59.0  \n",
       "1956-07-01                          95.0                      49.0  \n",
       "1956-08-01                          31.0                      58.0  \n",
       "1956-09-01                         -58.0                      43.0  \n",
       "1956-10-01                         -99.0                      32.0  \n",
       "1956-11-01                         -84.0                      34.0  \n",
       "1956-12-01                           0.0                      28.0  \n",
       "1957-01-01                          44.0                      31.0  \n",
       "1957-02-01                          -5.0                      24.0  \n",
       "1957-03-01                          41.0                      39.0  \n",
       "1957-04-01                          47.0                      35.0  \n",
       "1957-05-01                          -1.0                      37.0  \n",
       "1957-06-01                          74.0                      48.0  \n",
       "1957-07-01                         110.0                      52.0  \n",
       "1957-08-01                          45.0                      62.0  \n",
       "1957-09-01                         -61.0                      49.0  \n",
       "1957-10-01                        -120.0                      41.0  \n",
       "1957-11-01                         -99.0                      34.0  \n",
       "1957-12-01                         -11.0                      30.0  \n",
       "1958-01-01                          35.0                      25.0  \n",
       "1958-02-01                         -18.0                      17.0  \n",
       "1958-03-01                          22.0                       6.0  \n",
       "1958-04-01                          30.0                       0.0  \n",
       "1958-05-01                           1.0                       8.0  \n",
       "1958-06-01                          87.0                      13.0  \n",
       "1958-07-01                         128.0                      26.0  \n",
       "1958-08-01                          70.0                      38.0  \n",
       "1958-09-01                         -87.0                       0.0  \n",
       "1958-10-01                        -146.0                      12.0  \n",
       "1958-11-01                         -94.0                       5.0  \n",
       "1958-12-01                         -22.0                       1.0  \n",
       "1959-01-01                          50.0                      20.0  \n",
       "1959-02-01                           5.0                      24.0  \n",
       "1959-03-01                          46.0                      44.0  \n",
       "1959-04-01                          54.0                      48.0  \n",
       "1959-05-01                          14.0                      57.0  \n",
       "1959-06-01                          76.0                      37.0  \n",
       "1959-07-01                         128.0                      57.0  \n",
       "1959-08-01                          87.0                      54.0  \n",
       "1959-09-01                         -85.0                      59.0  \n",
       "1959-10-01                        -152.0                      48.0  \n",
       "1959-11-01                        -101.0                      52.0  \n",
       "1959-12-01                          -2.0                      68.0  \n",
       "1960-01-01                          55.0                      57.0  \n",
       "1960-02-01                         -14.0                      49.0  \n",
       "1960-03-01                           2.0                      13.0  \n",
       "1960-04-01                          70.0                      65.0  \n",
       "1960-05-01                          53.0                      52.0  \n",
       "1960-06-01                          74.0                      63.0  \n",
       "1960-07-01                         150.0                      74.0  \n",
       "1960-08-01                          71.0                      47.0  \n",
       "1960-09-01                        -114.0                      45.0  \n",
       "1960-10-01                        -145.0                      54.0  \n",
       "1960-11-01                        -118.0                      28.0  \n",
       "1960-12-01                         -29.0                      27.0  "
      ]
     },
     "execution_count": 48,
     "metadata": {},
     "output_type": "execute_result"
    }
   ],
   "source": [
    "test_data"
   ]
  },
  {
   "cell_type": "code",
   "execution_count": 49,
   "id": "648c8d26",
   "metadata": {},
   "outputs": [],
   "source": [
    "# prediction\n",
    "pred_start_date = test_data.index[0]\n",
    "pred_end_date = test_data.index[-1]"
   ]
  },
  {
   "cell_type": "code",
   "execution_count": 50,
   "id": "2b5ac2cc",
   "metadata": {},
   "outputs": [
    {
     "data": {
      "text/plain": [
       "Timestamp('1956-01-01 00:00:00')"
      ]
     },
     "execution_count": 50,
     "metadata": {},
     "output_type": "execute_result"
    }
   ],
   "source": [
    "pred_start_date"
   ]
  },
  {
   "cell_type": "code",
   "execution_count": 51,
   "id": "59a5214c",
   "metadata": {},
   "outputs": [
    {
     "data": {
      "text/plain": [
       "Timestamp('1960-12-01 00:00:00')"
      ]
     },
     "execution_count": 51,
     "metadata": {},
     "output_type": "execute_result"
    }
   ],
   "source": [
    "pred_end_date"
   ]
  },
  {
   "cell_type": "markdown",
   "id": "907f0b39",
   "metadata": {},
   "source": [
    "### 1. ARIMA Model"
   ]
  },
  {
   "cell_type": "code",
   "execution_count": 52,
   "id": "4cffaa8e",
   "metadata": {},
   "outputs": [],
   "source": [
    "from statsmodels.tsa.arima.model import ARIMA"
   ]
  },
  {
   "cell_type": "code",
   "execution_count": 53,
   "id": "d23d34c4",
   "metadata": {},
   "outputs": [
    {
     "name": "stderr",
     "output_type": "stream",
     "text": [
      "C:\\Users\\user\\anaconda3\\lib\\site-packages\\statsmodels\\tsa\\base\\tsa_model.py:471: ValueWarning: No frequency information was provided, so inferred frequency MS will be used.\n",
      "  self._init_dates(dates, freq)\n",
      "C:\\Users\\user\\anaconda3\\lib\\site-packages\\statsmodels\\tsa\\base\\tsa_model.py:471: ValueWarning: No frequency information was provided, so inferred frequency MS will be used.\n",
      "  self._init_dates(dates, freq)\n",
      "C:\\Users\\user\\anaconda3\\lib\\site-packages\\statsmodels\\tsa\\base\\tsa_model.py:471: ValueWarning: No frequency information was provided, so inferred frequency MS will be used.\n",
      "  self._init_dates(dates, freq)\n"
     ]
    }
   ],
   "source": [
    "model_ARIMA = ARIMA(train_data['Thousands of Passengers'],order=(10,2,0))"
   ]
  },
  {
   "cell_type": "code",
   "execution_count": 54,
   "id": "31a53b71",
   "metadata": {},
   "outputs": [],
   "source": [
    "model_Arima_fit = model_ARIMA.fit()"
   ]
  },
  {
   "cell_type": "code",
   "execution_count": 55,
   "id": "e554fb52",
   "metadata": {},
   "outputs": [
    {
     "data": {
      "text/html": [
       "<table class=\"simpletable\">\n",
       "<caption>SARIMAX Results</caption>\n",
       "<tr>\n",
       "  <th>Dep. Variable:</th>   <td>Thousands of Passengers</td> <th>  No. Observations:  </th>    <td>84</td>   \n",
       "</tr>\n",
       "<tr>\n",
       "  <th>Model:</th>               <td>ARIMA(10, 2, 0)</td>     <th>  Log Likelihood     </th> <td>-357.239</td>\n",
       "</tr>\n",
       "<tr>\n",
       "  <th>Date:</th>               <td>Sat, 02 Sep 2023</td>     <th>  AIC                </th>  <td>736.477</td>\n",
       "</tr>\n",
       "<tr>\n",
       "  <th>Time:</th>                   <td>16:40:44</td>         <th>  BIC                </th>  <td>762.951</td>\n",
       "</tr>\n",
       "<tr>\n",
       "  <th>Sample:</th>                <td>01-01-1949</td>        <th>  HQIC               </th>  <td>747.106</td>\n",
       "</tr>\n",
       "<tr>\n",
       "  <th></th>                      <td>- 12-01-1955</td>       <th>                     </th>     <td> </td>   \n",
       "</tr>\n",
       "<tr>\n",
       "  <th>Covariance Type:</th>           <td>opg</td>           <th>                     </th>     <td> </td>   \n",
       "</tr>\n",
       "</table>\n",
       "<table class=\"simpletable\">\n",
       "<tr>\n",
       "     <td></td>       <th>coef</th>     <th>std err</th>      <th>z</th>      <th>P>|z|</th>  <th>[0.025</th>    <th>0.975]</th>  \n",
       "</tr>\n",
       "<tr>\n",
       "  <th>ar.L1</th>  <td>   -0.5166</td> <td>    0.121</td> <td>   -4.262</td> <td> 0.000</td> <td>   -0.754</td> <td>   -0.279</td>\n",
       "</tr>\n",
       "<tr>\n",
       "  <th>ar.L2</th>  <td>   -0.7204</td> <td>    0.121</td> <td>   -5.940</td> <td> 0.000</td> <td>   -0.958</td> <td>   -0.483</td>\n",
       "</tr>\n",
       "<tr>\n",
       "  <th>ar.L3</th>  <td>   -0.4857</td> <td>    0.125</td> <td>   -3.876</td> <td> 0.000</td> <td>   -0.731</td> <td>   -0.240</td>\n",
       "</tr>\n",
       "<tr>\n",
       "  <th>ar.L4</th>  <td>   -0.7505</td> <td>    0.129</td> <td>   -5.819</td> <td> 0.000</td> <td>   -1.003</td> <td>   -0.498</td>\n",
       "</tr>\n",
       "<tr>\n",
       "  <th>ar.L5</th>  <td>   -0.5062</td> <td>    0.169</td> <td>   -2.991</td> <td> 0.003</td> <td>   -0.838</td> <td>   -0.175</td>\n",
       "</tr>\n",
       "<tr>\n",
       "  <th>ar.L6</th>  <td>   -0.5200</td> <td>    0.141</td> <td>   -3.683</td> <td> 0.000</td> <td>   -0.797</td> <td>   -0.243</td>\n",
       "</tr>\n",
       "<tr>\n",
       "  <th>ar.L7</th>  <td>   -0.3051</td> <td>    0.143</td> <td>   -2.127</td> <td> 0.033</td> <td>   -0.586</td> <td>   -0.024</td>\n",
       "</tr>\n",
       "<tr>\n",
       "  <th>ar.L8</th>  <td>   -0.5939</td> <td>    0.155</td> <td>   -3.833</td> <td> 0.000</td> <td>   -0.898</td> <td>   -0.290</td>\n",
       "</tr>\n",
       "<tr>\n",
       "  <th>ar.L9</th>  <td>   -0.2963</td> <td>    0.132</td> <td>   -2.241</td> <td> 0.025</td> <td>   -0.555</td> <td>   -0.037</td>\n",
       "</tr>\n",
       "<tr>\n",
       "  <th>ar.L10</th> <td>   -0.4825</td> <td>    0.110</td> <td>   -4.376</td> <td> 0.000</td> <td>   -0.699</td> <td>   -0.266</td>\n",
       "</tr>\n",
       "<tr>\n",
       "  <th>sigma2</th> <td>  336.0939</td> <td>   66.064</td> <td>    5.087</td> <td> 0.000</td> <td>  206.612</td> <td>  465.576</td>\n",
       "</tr>\n",
       "</table>\n",
       "<table class=\"simpletable\">\n",
       "<tr>\n",
       "  <th>Ljung-Box (L1) (Q):</th>     <td>10.86</td> <th>  Jarque-Bera (JB):  </th> <td>1.24</td>\n",
       "</tr>\n",
       "<tr>\n",
       "  <th>Prob(Q):</th>                <td>0.00</td>  <th>  Prob(JB):          </th> <td>0.54</td>\n",
       "</tr>\n",
       "<tr>\n",
       "  <th>Heteroskedasticity (H):</th> <td>2.85</td>  <th>  Skew:              </th> <td>0.24</td>\n",
       "</tr>\n",
       "<tr>\n",
       "  <th>Prob(H) (two-sided):</th>    <td>0.01</td>  <th>  Kurtosis:          </th> <td>2.64</td>\n",
       "</tr>\n",
       "</table><br/><br/>Warnings:<br/>[1] Covariance matrix calculated using the outer product of gradients (complex-step)."
      ],
      "text/plain": [
       "<class 'statsmodels.iolib.summary.Summary'>\n",
       "\"\"\"\n",
       "                                  SARIMAX Results                                  \n",
       "===================================================================================\n",
       "Dep. Variable:     Thousands of Passengers   No. Observations:                   84\n",
       "Model:                     ARIMA(10, 2, 0)   Log Likelihood                -357.239\n",
       "Date:                     Sat, 02 Sep 2023   AIC                            736.477\n",
       "Time:                             16:40:44   BIC                            762.951\n",
       "Sample:                         01-01-1949   HQIC                           747.106\n",
       "                              - 12-01-1955                                         \n",
       "Covariance Type:                       opg                                         \n",
       "==============================================================================\n",
       "                 coef    std err          z      P>|z|      [0.025      0.975]\n",
       "------------------------------------------------------------------------------\n",
       "ar.L1         -0.5166      0.121     -4.262      0.000      -0.754      -0.279\n",
       "ar.L2         -0.7204      0.121     -5.940      0.000      -0.958      -0.483\n",
       "ar.L3         -0.4857      0.125     -3.876      0.000      -0.731      -0.240\n",
       "ar.L4         -0.7505      0.129     -5.819      0.000      -1.003      -0.498\n",
       "ar.L5         -0.5062      0.169     -2.991      0.003      -0.838      -0.175\n",
       "ar.L6         -0.5200      0.141     -3.683      0.000      -0.797      -0.243\n",
       "ar.L7         -0.3051      0.143     -2.127      0.033      -0.586      -0.024\n",
       "ar.L8         -0.5939      0.155     -3.833      0.000      -0.898      -0.290\n",
       "ar.L9         -0.2963      0.132     -2.241      0.025      -0.555      -0.037\n",
       "ar.L10        -0.4825      0.110     -4.376      0.000      -0.699      -0.266\n",
       "sigma2       336.0939     66.064      5.087      0.000     206.612     465.576\n",
       "===================================================================================\n",
       "Ljung-Box (L1) (Q):                  10.86   Jarque-Bera (JB):                 1.24\n",
       "Prob(Q):                              0.00   Prob(JB):                         0.54\n",
       "Heteroskedasticity (H):               2.85   Skew:                             0.24\n",
       "Prob(H) (two-sided):                  0.01   Kurtosis:                         2.64\n",
       "===================================================================================\n",
       "\n",
       "Warnings:\n",
       "[1] Covariance matrix calculated using the outer product of gradients (complex-step).\n",
       "\"\"\""
      ]
     },
     "execution_count": 55,
     "metadata": {},
     "output_type": "execute_result"
    }
   ],
   "source": [
    "model_Arima_fit.summary()"
   ]
  },
  {
   "cell_type": "code",
   "execution_count": 56,
   "id": "8983bb72",
   "metadata": {},
   "outputs": [
    {
     "name": "stdout",
     "output_type": "stream",
     "text": [
      "1956-01-01 00:00:00\n",
      "1960-12-01 00:00:00\n"
     ]
    }
   ],
   "source": [
    "pred_start_date = test_data.index[0]\n",
    "pred_end_date = test_data.index[-1]\n",
    "print(pred_start_date)\n",
    "print(pred_end_date)"
   ]
  },
  {
   "cell_type": "code",
   "execution_count": 57,
   "id": "19e8c349",
   "metadata": {},
   "outputs": [],
   "source": [
    "pred_Arima = model_Arima_fit.predict(start=pred_start_date,end=pred_end_date)\n",
    "residuals = test_data['Thousands of Passengers']-pred_Arima"
   ]
  },
  {
   "cell_type": "code",
   "execution_count": 58,
   "id": "5fcbf77c",
   "metadata": {},
   "outputs": [
    {
     "data": {
      "text/plain": [
       "1956-01-01    300.183612\n",
       "1956-02-01    309.478354\n",
       "1956-03-01    316.443013\n",
       "1956-04-01    307.827542\n",
       "1956-05-01    318.544231\n",
       "Freq: MS, Name: predicted_mean, dtype: float64"
      ]
     },
     "execution_count": 58,
     "metadata": {},
     "output_type": "execute_result"
    }
   ],
   "source": [
    "pred_Arima.head()"
   ]
  },
  {
   "cell_type": "code",
   "execution_count": 59,
   "id": "1991b071",
   "metadata": {},
   "outputs": [
    {
     "data": {
      "text/plain": [
       "Month\n",
       "1956-01-01   -16.183612\n",
       "1956-02-01   -32.478354\n",
       "1956-03-01     0.556987\n",
       "1956-04-01     5.172458\n",
       "1956-05-01    -0.544231\n",
       "dtype: float64"
      ]
     },
     "execution_count": 59,
     "metadata": {},
     "output_type": "execute_result"
    }
   ],
   "source": [
    "residuals.head()"
   ]
  },
  {
   "cell_type": "code",
   "execution_count": 60,
   "id": "818721bb",
   "metadata": {},
   "outputs": [
    {
     "data": {
      "text/plain": [
       "<AxesSubplot:ylabel='Density'>"
      ]
     },
     "execution_count": 60,
     "metadata": {},
     "output_type": "execute_result"
    },
    {
     "data": {
      "image/png": "[encoded data removed]",
      "text/plain": [
       "<Figure size 432x288 with 1 Axes>"
      ]
     },
     "metadata": {
      "needs_background": "light"
     },
     "output_type": "display_data"
    }
   ],
   "source": [
    "model_Arima_fit.resid.plot(kind='kde')"
   ]
  },
  {
   "cell_type": "code",
   "execution_count": 61,
   "id": "353b5f55",
   "metadata": {},
   "outputs": [
    {
     "name": "stderr",
     "output_type": "stream",
     "text": [
      "C:\\Users\\user\\AppData\\Local\\Temp\\ipykernel_11116\\2957868244.py:1: SettingWithCopyWarning: \n",
      "A value is trying to be set on a copy of a slice from a DataFrame.\n",
      "Try using .loc[row_indexer,col_indexer] = value instead\n",
      "\n",
      "See the caveats in the documentation: https://pandas.pydata.org/pandas-docs/stable/user_guide/indexing.html#returning-a-view-versus-a-copy\n",
      "  test_data['Predicted_ARIMA'] = pred_Arima\n"
     ]
    }
   ],
   "source": [
    "test_data['Predicted_ARIMA'] = pred_Arima"
   ]
  },
  {
   "cell_type": "code",
   "execution_count": 62,
   "id": "de1c27c9",
   "metadata": {},
   "outputs": [
    {
     "data": {
      "text/html": [
       "<div>\n",
       "<style scoped>\n",
       "    .dataframe tbody tr th:only-of-type {\n",
       "        vertical-align: middle;\n",
       "    }\n",
       "\n",
       "    .dataframe tbody tr th {\n",
       "        vertical-align: top;\n",
       "    }\n",
       "\n",
       "    .dataframe thead th {\n",
       "        text-align: right;\n",
       "    }\n",
       "</style>\n",
       "<table border=\"1\" class=\"dataframe\">\n",
       "  <thead>\n",
       "    <tr style=\"text-align: right;\">\n",
       "      <th></th>\n",
       "      <th>Thousands of Passengers</th>\n",
       "      <th>Passengers First Difference</th>\n",
       "      <th>Passengers Second Difference</th>\n",
       "      <th>Passengers 12 Difference</th>\n",
       "      <th>Predicted_ARIMA</th>\n",
       "    </tr>\n",
       "    <tr>\n",
       "      <th>Month</th>\n",
       "      <th></th>\n",
       "      <th></th>\n",
       "      <th></th>\n",
       "      <th></th>\n",
       "      <th></th>\n",
       "    </tr>\n",
       "  </thead>\n",
       "  <tbody>\n",
       "    <tr>\n",
       "      <th>1956-01-01</th>\n",
       "      <td>284.0</td>\n",
       "      <td>6.0</td>\n",
       "      <td>47.0</td>\n",
       "      <td>42.0</td>\n",
       "      <td>300.183612</td>\n",
       "    </tr>\n",
       "    <tr>\n",
       "      <th>1956-02-01</th>\n",
       "      <td>277.0</td>\n",
       "      <td>-7.0</td>\n",
       "      <td>-1.0</td>\n",
       "      <td>44.0</td>\n",
       "      <td>309.478354</td>\n",
       "    </tr>\n",
       "    <tr>\n",
       "      <th>1956-03-01</th>\n",
       "      <td>317.0</td>\n",
       "      <td>40.0</td>\n",
       "      <td>33.0</td>\n",
       "      <td>50.0</td>\n",
       "      <td>316.443013</td>\n",
       "    </tr>\n",
       "    <tr>\n",
       "      <th>1956-04-01</th>\n",
       "      <td>313.0</td>\n",
       "      <td>-4.0</td>\n",
       "      <td>36.0</td>\n",
       "      <td>44.0</td>\n",
       "      <td>307.827542</td>\n",
       "    </tr>\n",
       "    <tr>\n",
       "      <th>1956-05-01</th>\n",
       "      <td>318.0</td>\n",
       "      <td>5.0</td>\n",
       "      <td>1.0</td>\n",
       "      <td>48.0</td>\n",
       "      <td>318.544231</td>\n",
       "    </tr>\n",
       "  </tbody>\n",
       "</table>\n",
       "</div>"
      ],
      "text/plain": [
       "            Thousands of Passengers  Passengers First Difference  \\\n",
       "Month                                                              \n",
       "1956-01-01                    284.0                          6.0   \n",
       "1956-02-01                    277.0                         -7.0   \n",
       "1956-03-01                    317.0                         40.0   \n",
       "1956-04-01                    313.0                         -4.0   \n",
       "1956-05-01                    318.0                          5.0   \n",
       "\n",
       "            Passengers Second Difference  Passengers 12 Difference  \\\n",
       "Month                                                                \n",
       "1956-01-01                          47.0                      42.0   \n",
       "1956-02-01                          -1.0                      44.0   \n",
       "1956-03-01                          33.0                      50.0   \n",
       "1956-04-01                          36.0                      44.0   \n",
       "1956-05-01                           1.0                      48.0   \n",
       "\n",
       "            Predicted_ARIMA  \n",
       "Month                        \n",
       "1956-01-01       300.183612  \n",
       "1956-02-01       309.478354  \n",
       "1956-03-01       316.443013  \n",
       "1956-04-01       307.827542  \n",
       "1956-05-01       318.544231  "
      ]
     },
     "execution_count": 62,
     "metadata": {},
     "output_type": "execute_result"
    }
   ],
   "source": [
    "test_data.head()"
   ]
  },
  {
   "cell_type": "code",
   "execution_count": 63,
   "id": "707bbb8f",
   "metadata": {},
   "outputs": [
    {
     "data": {
      "text/plain": [
       "<AxesSubplot:xlabel='Month'>"
      ]
     },
     "execution_count": 63,
     "metadata": {},
     "output_type": "execute_result"
    },
    {
     "data": {
      "image/png": "[encoded data removed]",
      "text/plain": [
       "<Figure size 432x288 with 1 Axes>"
      ]
     },
     "metadata": {
      "needs_background": "light"
     },
     "output_type": "display_data"
    }
   ],
   "source": [
    "test_data[['Thousands of Passengers','Predicted_ARIMA']].plot()"
   ]
  },
  {
   "cell_type": "markdown",
   "id": "4e3d6e17",
   "metadata": {},
   "source": [
    "### 2. SARIMAX Model"
   ]
  },
  {
   "cell_type": "code",
   "execution_count": 64,
   "id": "68add39a",
   "metadata": {},
   "outputs": [],
   "source": [
    "from statsmodels.tsa.statespace.sarimax import SARIMAX"
   ]
  },
  {
   "cell_type": "code",
   "execution_count": 65,
   "id": "88585626",
   "metadata": {},
   "outputs": [
    {
     "name": "stderr",
     "output_type": "stream",
     "text": [
      "C:\\Users\\user\\anaconda3\\lib\\site-packages\\statsmodels\\tsa\\base\\tsa_model.py:471: ValueWarning: No frequency information was provided, so inferred frequency MS will be used.\n",
      "  self._init_dates(dates, freq)\n",
      "C:\\Users\\user\\anaconda3\\lib\\site-packages\\statsmodels\\tsa\\base\\tsa_model.py:471: ValueWarning: No frequency information was provided, so inferred frequency MS will be used.\n",
      "  self._init_dates(dates, freq)\n"
     ]
    }
   ],
   "source": [
    "model_SARIMA = SARIMAX(train_data['Thousands of Passengers'],order=(3,0,5),seasonal_order=(0,1,0,12))"
   ]
  },
  {
   "cell_type": "code",
   "execution_count": 66,
   "id": "7317630f",
   "metadata": {},
   "outputs": [
    {
     "name": "stderr",
     "output_type": "stream",
     "text": [
      "C:\\Users\\user\\anaconda3\\lib\\site-packages\\statsmodels\\base\\model.py:604: ConvergenceWarning: Maximum Likelihood optimization failed to converge. Check mle_retvals\n",
      "  warnings.warn(\"Maximum Likelihood optimization failed to \"\n"
     ]
    }
   ],
   "source": [
    "model_SARIMA_fit = model_SARIMA.fit()"
   ]
  },
  {
   "cell_type": "code",
   "execution_count": 67,
   "id": "b9bd18d9",
   "metadata": {},
   "outputs": [
    {
     "data": {
      "text/html": [
       "<table class=\"simpletable\">\n",
       "<caption>SARIMAX Results</caption>\n",
       "<tr>\n",
       "  <th>Dep. Variable:</th>       <td>Thousands of Passengers</td>     <th>  No. Observations:  </th>    <td>84</td>   \n",
       "</tr>\n",
       "<tr>\n",
       "  <th>Model:</th>           <td>SARIMAX(3, 0, 5)x(0, 1, [], 12)</td> <th>  Log Likelihood     </th> <td>-265.240</td>\n",
       "</tr>\n",
       "<tr>\n",
       "  <th>Date:</th>                   <td>Sat, 02 Sep 2023</td>         <th>  AIC                </th>  <td>548.481</td>\n",
       "</tr>\n",
       "<tr>\n",
       "  <th>Time:</th>                       <td>16:40:47</td>             <th>  BIC                </th>  <td>568.971</td>\n",
       "</tr>\n",
       "<tr>\n",
       "  <th>Sample:</th>                    <td>01-01-1949</td>            <th>  HQIC               </th>  <td>556.638</td>\n",
       "</tr>\n",
       "<tr>\n",
       "  <th></th>                          <td>- 12-01-1955</td>           <th>                     </th>     <td> </td>   \n",
       "</tr>\n",
       "<tr>\n",
       "  <th>Covariance Type:</th>               <td>opg</td>               <th>                     </th>     <td> </td>   \n",
       "</tr>\n",
       "</table>\n",
       "<table class=\"simpletable\">\n",
       "<tr>\n",
       "     <td></td>       <th>coef</th>     <th>std err</th>      <th>z</th>      <th>P>|z|</th>  <th>[0.025</th>    <th>0.975]</th>  \n",
       "</tr>\n",
       "<tr>\n",
       "  <th>ar.L1</th>  <td>    0.5989</td> <td>    0.938</td> <td>    0.638</td> <td> 0.523</td> <td>   -1.240</td> <td>    2.438</td>\n",
       "</tr>\n",
       "<tr>\n",
       "  <th>ar.L2</th>  <td>    0.8312</td> <td>    0.232</td> <td>    3.579</td> <td> 0.000</td> <td>    0.376</td> <td>    1.286</td>\n",
       "</tr>\n",
       "<tr>\n",
       "  <th>ar.L3</th>  <td>   -0.4532</td> <td>    0.894</td> <td>   -0.507</td> <td> 0.612</td> <td>   -2.206</td> <td>    1.300</td>\n",
       "</tr>\n",
       "<tr>\n",
       "  <th>ma.L1</th>  <td>    0.1832</td> <td>    1.166</td> <td>    0.157</td> <td> 0.875</td> <td>   -2.101</td> <td>    2.468</td>\n",
       "</tr>\n",
       "<tr>\n",
       "  <th>ma.L2</th>  <td>   -0.5348</td> <td>    1.264</td> <td>   -0.423</td> <td> 0.672</td> <td>   -3.011</td> <td>    1.942</td>\n",
       "</tr>\n",
       "<tr>\n",
       "  <th>ma.L3</th>  <td>   -0.0986</td> <td>    0.385</td> <td>   -0.256</td> <td> 0.798</td> <td>   -0.852</td> <td>    0.655</td>\n",
       "</tr>\n",
       "<tr>\n",
       "  <th>ma.L4</th>  <td>   -0.1272</td> <td>    0.338</td> <td>   -0.377</td> <td> 0.706</td> <td>   -0.789</td> <td>    0.535</td>\n",
       "</tr>\n",
       "<tr>\n",
       "  <th>ma.L5</th>  <td>    0.2471</td> <td>    0.357</td> <td>    0.692</td> <td> 0.489</td> <td>   -0.452</td> <td>    0.947</td>\n",
       "</tr>\n",
       "<tr>\n",
       "  <th>sigma2</th> <td>   87.7265</td> <td>   81.225</td> <td>    1.080</td> <td> 0.280</td> <td>  -71.473</td> <td>  246.926</td>\n",
       "</tr>\n",
       "</table>\n",
       "<table class=\"simpletable\">\n",
       "<tr>\n",
       "  <th>Ljung-Box (L1) (Q):</th>     <td>0.02</td> <th>  Jarque-Bera (JB):  </th> <td>2.68</td>\n",
       "</tr>\n",
       "<tr>\n",
       "  <th>Prob(Q):</th>                <td>0.88</td> <th>  Prob(JB):          </th> <td>0.26</td>\n",
       "</tr>\n",
       "<tr>\n",
       "  <th>Heteroskedasticity (H):</th> <td>2.05</td> <th>  Skew:              </th> <td>0.46</td>\n",
       "</tr>\n",
       "<tr>\n",
       "  <th>Prob(H) (two-sided):</th>    <td>0.09</td> <th>  Kurtosis:          </th> <td>2.77</td>\n",
       "</tr>\n",
       "</table><br/><br/>Warnings:<br/>[1] Covariance matrix calculated using the outer product of gradients (complex-step)."
      ],
      "text/plain": [
       "<class 'statsmodels.iolib.summary.Summary'>\n",
       "\"\"\"\n",
       "                                      SARIMAX Results                                      \n",
       "===========================================================================================\n",
       "Dep. Variable:             Thousands of Passengers   No. Observations:                   84\n",
       "Model:             SARIMAX(3, 0, 5)x(0, 1, [], 12)   Log Likelihood                -265.240\n",
       "Date:                             Sat, 02 Sep 2023   AIC                            548.481\n",
       "Time:                                     16:40:47   BIC                            568.971\n",
       "Sample:                                 01-01-1949   HQIC                           556.638\n",
       "                                      - 12-01-1955                                         \n",
       "Covariance Type:                               opg                                         \n",
       "==============================================================================\n",
       "                 coef    std err          z      P>|z|      [0.025      0.975]\n",
       "------------------------------------------------------------------------------\n",
       "ar.L1          0.5989      0.938      0.638      0.523      -1.240       2.438\n",
       "ar.L2          0.8312      0.232      3.579      0.000       0.376       1.286\n",
       "ar.L3         -0.4532      0.894     -0.507      0.612      -2.206       1.300\n",
       "ma.L1          0.1832      1.166      0.157      0.875      -2.101       2.468\n",
       "ma.L2         -0.5348      1.264     -0.423      0.672      -3.011       1.942\n",
       "ma.L3         -0.0986      0.385     -0.256      0.798      -0.852       0.655\n",
       "ma.L4         -0.1272      0.338     -0.377      0.706      -0.789       0.535\n",
       "ma.L5          0.2471      0.357      0.692      0.489      -0.452       0.947\n",
       "sigma2        87.7265     81.225      1.080      0.280     -71.473     246.926\n",
       "===================================================================================\n",
       "Ljung-Box (L1) (Q):                   0.02   Jarque-Bera (JB):                 2.68\n",
       "Prob(Q):                              0.88   Prob(JB):                         0.26\n",
       "Heteroskedasticity (H):               2.05   Skew:                             0.46\n",
       "Prob(H) (two-sided):                  0.09   Kurtosis:                         2.77\n",
       "===================================================================================\n",
       "\n",
       "Warnings:\n",
       "[1] Covariance matrix calculated using the outer product of gradients (complex-step).\n",
       "\"\"\""
      ]
     },
     "execution_count": 67,
     "metadata": {},
     "output_type": "execute_result"
    }
   ],
   "source": [
    "model_SARIMA_fit.summary()"
   ]
  },
  {
   "cell_type": "code",
   "execution_count": 68,
   "id": "9d6eb3d3",
   "metadata": {},
   "outputs": [],
   "source": [
    "pred_Sarima = model_SARIMA_fit.predict(start=datetime(1956,1,1),end=datetime(1960,12,1))\n",
    "residuals = test_data['Thousands of Passengers']-pred_Sarima"
   ]
  },
  {
   "cell_type": "code",
   "execution_count": 69,
   "id": "27042d62",
   "metadata": {},
   "outputs": [
    {
     "data": {
      "text/plain": [
       "1956-01-01    286.187814\n",
       "1956-02-01    281.278925\n",
       "1956-03-01    309.919618\n",
       "1956-04-01    310.680057\n",
       "1956-05-01    311.336491\n",
       "1956-06-01    354.952013\n",
       "1956-07-01    403.399007\n",
       "1956-08-01    385.072694\n",
       "1956-09-01    349.446099\n",
       "1956-10-01    310.218973\n",
       "1956-11-01    272.564253\n",
       "1956-12-01    312.436077\n",
       "1957-01-01    319.960106\n",
       "1957-02-01    314.012605\n",
       "1957-03-01    341.990777\n",
       "1957-04-01    341.791919\n",
       "1957-05-01    341.793794\n",
       "1957-06-01    384.520145\n",
       "1957-07-01    432.325253\n",
       "1957-08-01    413.172040\n",
       "1957-09-01    376.919610\n",
       "1957-10-01    336.921215\n",
       "1957-11-01    298.659099\n",
       "1957-12-01    337.809665\n",
       "1958-01-01    344.746366\n",
       "1958-02-01    338.122841\n",
       "1958-03-01    365.534794\n",
       "1958-04-01    364.701058\n",
       "1958-05-01    364.158404\n",
       "1958-06-01    406.287504\n",
       "1958-07-01    453.570000\n",
       "1958-08-01    433.854109\n",
       "1958-09-01    397.100940\n",
       "1958-10-01    356.571772\n",
       "1958-11-01    317.830539\n",
       "1958-12-01    356.479891\n",
       "1959-01-01    362.958690\n",
       "1959-02-01    355.861429\n",
       "1959-03-01    382.836177\n",
       "1959-04-01    381.554325\n",
       "1959-05-01    380.594562\n",
       "1959-06-01    422.299498\n",
       "1959-07-01    469.184325\n",
       "1959-08-01    449.066715\n",
       "1959-09-01    411.934623\n",
       "1959-10-01    371.024811\n",
       "1959-11-01    331.922687\n",
       "1959-12-01    370.211217\n",
       "1960-01-01    376.346436\n",
       "1960-02-01    368.907025\n",
       "1960-03-01    395.554780\n",
       "1960-04-01    393.948390\n",
       "1960-05-01    392.677509\n",
       "1960-06-01    434.074535\n",
       "1960-07-01    480.663417\n",
       "1960-08-01    460.253613\n",
       "1960-09-01    422.840064\n",
       "1960-10-01    381.652922\n",
       "1960-11-01    342.283165\n",
       "1960-12-01    380.308434\n",
       "Freq: MS, Name: predicted_mean, dtype: float64"
      ]
     },
     "execution_count": 69,
     "metadata": {},
     "output_type": "execute_result"
    }
   ],
   "source": [
    "pred_Sarima"
   ]
  },
  {
   "cell_type": "code",
   "execution_count": 70,
   "id": "d365e89c",
   "metadata": {},
   "outputs": [
    {
     "data": {
      "text/plain": [
       "Month\n",
       "1956-01-01     -2.187814\n",
       "1956-02-01     -4.278925\n",
       "1956-03-01      7.080382\n",
       "1956-04-01      2.319943\n",
       "1956-05-01      6.663509\n",
       "1956-06-01     19.047987\n",
       "1956-07-01      9.600993\n",
       "1956-08-01     19.927306\n",
       "1956-09-01      5.553901\n",
       "1956-10-01     -4.218973\n",
       "1956-11-01     -1.564253\n",
       "1956-12-01     -6.436077\n",
       "1957-01-01     -4.960106\n",
       "1957-02-01    -13.012605\n",
       "1957-03-01     14.009223\n",
       "1957-04-01      6.208081\n",
       "1957-05-01     13.206206\n",
       "1957-06-01     37.479855\n",
       "1957-07-01     32.674747\n",
       "1957-08-01     53.827960\n",
       "1957-09-01     27.080390\n",
       "1957-10-01     10.078785\n",
       "1957-11-01      6.340901\n",
       "1957-12-01     -1.809665\n",
       "1958-01-01     -4.746366\n",
       "1958-02-01    -20.122841\n",
       "1958-03-01     -3.534794\n",
       "1958-04-01    -16.701058\n",
       "1958-05-01     -1.158404\n",
       "1958-06-01     28.712496\n",
       "1958-07-01     37.430000\n",
       "1958-08-01     71.145891\n",
       "1958-09-01      6.899060\n",
       "1958-10-01      2.428228\n",
       "1958-11-01     -7.830539\n",
       "1958-12-01    -19.479891\n",
       "1959-01-01     -2.958690\n",
       "1959-02-01    -13.861429\n",
       "1959-03-01     23.163823\n",
       "1959-04-01     14.445675\n",
       "1959-05-01     39.405438\n",
       "1959-06-01     49.700502\n",
       "1959-07-01     78.815675\n",
       "1959-08-01    109.933285\n",
       "1959-09-01     51.065377\n",
       "1959-10-01     35.975189\n",
       "1959-11-01     30.077313\n",
       "1959-12-01     34.788783\n",
       "1960-01-01     40.653564\n",
       "1960-02-01     22.092975\n",
       "1960-03-01     23.445220\n",
       "1960-04-01     67.051610\n",
       "1960-05-01     79.322491\n",
       "1960-06-01    100.925465\n",
       "1960-07-01    141.336583\n",
       "1960-08-01    145.746387\n",
       "1960-09-01     85.159936\n",
       "1960-10-01     79.347078\n",
       "1960-11-01     47.716835\n",
       "1960-12-01     51.691566\n",
       "dtype: float64"
      ]
     },
     "execution_count": 70,
     "metadata": {},
     "output_type": "execute_result"
    }
   ],
   "source": [
    "residuals"
   ]
  },
  {
   "cell_type": "code",
   "execution_count": 71,
   "id": "d8b8abf3",
   "metadata": {},
   "outputs": [
    {
     "data": {
      "text/plain": [
       "<AxesSubplot:xlabel='Month'>"
      ]
     },
     "execution_count": 71,
     "metadata": {},
     "output_type": "execute_result"
    },
    {
     "data": {
      "image/png": "[encoded data removed]",
      "text/plain": [
       "<Figure size 432x288 with 1 Axes>"
      ]
     },
     "metadata": {
      "needs_background": "light"
     },
     "output_type": "display_data"
    }
   ],
   "source": [
    "model_SARIMA_fit.resid.plot()"
   ]
  },
  {
   "cell_type": "code",
   "execution_count": 72,
   "id": "36af7d38",
   "metadata": {},
   "outputs": [
    {
     "data": {
      "text/plain": [
       "<AxesSubplot:ylabel='Density'>"
      ]
     },
     "execution_count": 72,
     "metadata": {},
     "output_type": "execute_result"
    },
    {
     "data": {
      "image/png": "[encoded data removed]",
      "text/plain": [
       "<Figure size 432x288 with 1 Axes>"
      ]
     },
     "metadata": {
      "needs_background": "light"
     },
     "output_type": "display_data"
    }
   ],
   "source": [
    "model_SARIMA_fit.resid.plot(kind='kde')"
   ]
  },
  {
   "cell_type": "code",
   "execution_count": 73,
   "id": "194f3387",
   "metadata": {},
   "outputs": [
    {
     "name": "stderr",
     "output_type": "stream",
     "text": [
      "C:\\Users\\user\\AppData\\Local\\Temp\\ipykernel_11116\\3442192086.py:1: SettingWithCopyWarning: \n",
      "A value is trying to be set on a copy of a slice from a DataFrame.\n",
      "Try using .loc[row_indexer,col_indexer] = value instead\n",
      "\n",
      "See the caveats in the documentation: https://pandas.pydata.org/pandas-docs/stable/user_guide/indexing.html#returning-a-view-versus-a-copy\n",
      "  test_data['Predicted_SARIMAX'] = pred_Sarima\n"
     ]
    }
   ],
   "source": [
    "test_data['Predicted_SARIMAX'] = pred_Sarima"
   ]
  },
  {
   "cell_type": "code",
   "execution_count": 74,
   "id": "fb7bf753",
   "metadata": {},
   "outputs": [
    {
     "data": {
      "text/html": [
       "<div>\n",
       "<style scoped>\n",
       "    .dataframe tbody tr th:only-of-type {\n",
       "        vertical-align: middle;\n",
       "    }\n",
       "\n",
       "    .dataframe tbody tr th {\n",
       "        vertical-align: top;\n",
       "    }\n",
       "\n",
       "    .dataframe thead th {\n",
       "        text-align: right;\n",
       "    }\n",
       "</style>\n",
       "<table border=\"1\" class=\"dataframe\">\n",
       "  <thead>\n",
       "    <tr style=\"text-align: right;\">\n",
       "      <th></th>\n",
       "      <th>Thousands of Passengers</th>\n",
       "      <th>Passengers First Difference</th>\n",
       "      <th>Passengers Second Difference</th>\n",
       "      <th>Passengers 12 Difference</th>\n",
       "      <th>Predicted_ARIMA</th>\n",
       "      <th>Predicted_SARIMAX</th>\n",
       "    </tr>\n",
       "    <tr>\n",
       "      <th>Month</th>\n",
       "      <th></th>\n",
       "      <th></th>\n",
       "      <th></th>\n",
       "      <th></th>\n",
       "      <th></th>\n",
       "      <th></th>\n",
       "    </tr>\n",
       "  </thead>\n",
       "  <tbody>\n",
       "    <tr>\n",
       "      <th>1956-01-01</th>\n",
       "      <td>284.0</td>\n",
       "      <td>6.0</td>\n",
       "      <td>47.0</td>\n",
       "      <td>42.0</td>\n",
       "      <td>300.183612</td>\n",
       "      <td>286.187814</td>\n",
       "    </tr>\n",
       "    <tr>\n",
       "      <th>1956-02-01</th>\n",
       "      <td>277.0</td>\n",
       "      <td>-7.0</td>\n",
       "      <td>-1.0</td>\n",
       "      <td>44.0</td>\n",
       "      <td>309.478354</td>\n",
       "      <td>281.278925</td>\n",
       "    </tr>\n",
       "    <tr>\n",
       "      <th>1956-03-01</th>\n",
       "      <td>317.0</td>\n",
       "      <td>40.0</td>\n",
       "      <td>33.0</td>\n",
       "      <td>50.0</td>\n",
       "      <td>316.443013</td>\n",
       "      <td>309.919618</td>\n",
       "    </tr>\n",
       "    <tr>\n",
       "      <th>1956-04-01</th>\n",
       "      <td>313.0</td>\n",
       "      <td>-4.0</td>\n",
       "      <td>36.0</td>\n",
       "      <td>44.0</td>\n",
       "      <td>307.827542</td>\n",
       "      <td>310.680057</td>\n",
       "    </tr>\n",
       "    <tr>\n",
       "      <th>1956-05-01</th>\n",
       "      <td>318.0</td>\n",
       "      <td>5.0</td>\n",
       "      <td>1.0</td>\n",
       "      <td>48.0</td>\n",
       "      <td>318.544231</td>\n",
       "      <td>311.336491</td>\n",
       "    </tr>\n",
       "  </tbody>\n",
       "</table>\n",
       "</div>"
      ],
      "text/plain": [
       "            Thousands of Passengers  Passengers First Difference  \\\n",
       "Month                                                              \n",
       "1956-01-01                    284.0                          6.0   \n",
       "1956-02-01                    277.0                         -7.0   \n",
       "1956-03-01                    317.0                         40.0   \n",
       "1956-04-01                    313.0                         -4.0   \n",
       "1956-05-01                    318.0                          5.0   \n",
       "\n",
       "            Passengers Second Difference  Passengers 12 Difference  \\\n",
       "Month                                                                \n",
       "1956-01-01                          47.0                      42.0   \n",
       "1956-02-01                          -1.0                      44.0   \n",
       "1956-03-01                          33.0                      50.0   \n",
       "1956-04-01                          36.0                      44.0   \n",
       "1956-05-01                           1.0                      48.0   \n",
       "\n",
       "            Predicted_ARIMA  Predicted_SARIMAX  \n",
       "Month                                           \n",
       "1956-01-01       300.183612         286.187814  \n",
       "1956-02-01       309.478354         281.278925  \n",
       "1956-03-01       316.443013         309.919618  \n",
       "1956-04-01       307.827542         310.680057  \n",
       "1956-05-01       318.544231         311.336491  "
      ]
     },
     "execution_count": 74,
     "metadata": {},
     "output_type": "execute_result"
    }
   ],
   "source": [
    "test_data.head()"
   ]
  },
  {
   "cell_type": "code",
   "execution_count": 75,
   "id": "4ccf140e",
   "metadata": {},
   "outputs": [
    {
     "data": {
      "text/plain": [
       "<AxesSubplot:xlabel='Month'>"
      ]
     },
     "execution_count": 75,
     "metadata": {},
     "output_type": "execute_result"
    },
    {
     "data": {
      "image/png": "[encoded data removed]",
      "text/plain": [
       "<Figure size 432x288 with 1 Axes>"
      ]
     },
     "metadata": {
      "needs_background": "light"
     },
     "output_type": "display_data"
    }
   ],
   "source": [
    "test_data[['Thousands of Passengers','Predicted_ARIMA','Predicted_SARIMAX']].plot()"
   ]
  },
  {
   "cell_type": "markdown",
   "id": "71fc0a21",
   "metadata": {},
   "source": [
    "### Note:- SARIMAX model is better than ARIMA model."
   ]
  }
 ],
 "metadata": {
  "kernelspec": {
   "display_name": "Python 3",
   "language": "python",
   "name": "python3"
  },
  "language_info": {
   "codemirror_mode": {
    "name": "ipython",
    "version": 3
   },
   "file_extension": ".py",
   "mimetype": "text/x-python",
   "name": "python",
   "nbconvert_exporter": "python",
   "pygments_lexer": "ipython3",
   "version": "3.8.8"
  }
 },
 "nbformat": 4,
 "nbformat_minor": 5
}
